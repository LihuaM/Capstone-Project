{
 "cells": [
  {
   "cell_type": "code",
   "execution_count": 2,
   "metadata": {
    "collapsed": false
   },
   "outputs": [],
   "source": [
    "import pandas as pd\n",
    "import numpy as np\n",
    "import string\n",
    "from __future__ import division\n",
    "import nltk\n",
    "from nltk.corpus import stopwords\n",
    "from nltk import word_tokenize\n",
    "from nltk import ngrams\n",
    "from sklearn import metrics\n",
    "from sklearn.model_selection import train_test_split\n",
    "from sklearn.metrics.pairwise import cosine_similarity\n",
    "from sklearn.feature_extraction.text import TfidfVectorizer\n",
    "from sklearn.ensemble import RandomForestClassifier\n",
    "from sklearn.ensemble import GradientBoostingClassifier\n",
    "from sklearn.model_selection import GridSearchCV\n",
    "from sklearn.model_selection import cross_val_score\n",
    "from sklearn.metrics import roc_auc_score\n",
    "from gensim.models import Word2Vec\n",
    "import logging\n",
    "\n",
    "import matplotlib.pyplot as plt\n",
    "import seaborn as sns\n",
    "%matplotlib inline"
   ]
  },
  {
   "cell_type": "markdown",
   "metadata": {},
   "source": [
    "# Read in Data "
   ]
  },
  {
   "cell_type": "code",
   "execution_count": 4,
   "metadata": {
    "collapsed": false
   },
   "outputs": [],
   "source": [
    "df = pd.read_table('data/quora_duplicate_questions.tsv')\n",
    "pd.set_option('display.max_colwidth', 200)\n",
    "pd.set_option('display.max_columns', 100)"
   ]
  },
  {
   "cell_type": "code",
   "execution_count": 5,
   "metadata": {
    "collapsed": false
   },
   "outputs": [
    {
     "data": {
      "text/html": [
       "<div>\n",
       "<table border=\"1\" class=\"dataframe\">\n",
       "  <thead>\n",
       "    <tr style=\"text-align: right;\">\n",
       "      <th></th>\n",
       "      <th>id</th>\n",
       "      <th>qid1</th>\n",
       "      <th>qid2</th>\n",
       "      <th>question1</th>\n",
       "      <th>question2</th>\n",
       "      <th>is_duplicate</th>\n",
       "    </tr>\n",
       "  </thead>\n",
       "  <tbody>\n",
       "    <tr>\n",
       "      <th>0</th>\n",
       "      <td>0</td>\n",
       "      <td>1</td>\n",
       "      <td>2</td>\n",
       "      <td>What is the step by step guide to invest in share market in india?</td>\n",
       "      <td>What is the step by step guide to invest in share market?</td>\n",
       "      <td>0</td>\n",
       "    </tr>\n",
       "    <tr>\n",
       "      <th>1</th>\n",
       "      <td>1</td>\n",
       "      <td>3</td>\n",
       "      <td>4</td>\n",
       "      <td>What is the story of Kohinoor (Koh-i-Noor) Diamond?</td>\n",
       "      <td>What would happen if the Indian government stole the Kohinoor (Koh-i-Noor) diamond back?</td>\n",
       "      <td>0</td>\n",
       "    </tr>\n",
       "    <tr>\n",
       "      <th>2</th>\n",
       "      <td>2</td>\n",
       "      <td>5</td>\n",
       "      <td>6</td>\n",
       "      <td>How can I increase the speed of my internet connection while using a VPN?</td>\n",
       "      <td>How can Internet speed be increased by hacking through DNS?</td>\n",
       "      <td>0</td>\n",
       "    </tr>\n",
       "    <tr>\n",
       "      <th>3</th>\n",
       "      <td>3</td>\n",
       "      <td>7</td>\n",
       "      <td>8</td>\n",
       "      <td>Why am I mentally very lonely? How can I solve it?</td>\n",
       "      <td>Find the remainder when [math]23^{24}[/math] is divided by 24,23?</td>\n",
       "      <td>0</td>\n",
       "    </tr>\n",
       "    <tr>\n",
       "      <th>4</th>\n",
       "      <td>4</td>\n",
       "      <td>9</td>\n",
       "      <td>10</td>\n",
       "      <td>Which one dissolve in water quikly sugar, salt, methane and carbon di oxide?</td>\n",
       "      <td>Which fish would survive in salt water?</td>\n",
       "      <td>0</td>\n",
       "    </tr>\n",
       "  </tbody>\n",
       "</table>\n",
       "</div>"
      ],
      "text/plain": [
       "   id  qid1  qid2  \\\n",
       "0   0     1     2   \n",
       "1   1     3     4   \n",
       "2   2     5     6   \n",
       "3   3     7     8   \n",
       "4   4     9    10   \n",
       "\n",
       "                                                                      question1  \\\n",
       "0            What is the step by step guide to invest in share market in india?   \n",
       "1                           What is the story of Kohinoor (Koh-i-Noor) Diamond?   \n",
       "2     How can I increase the speed of my internet connection while using a VPN?   \n",
       "3                            Why am I mentally very lonely? How can I solve it?   \n",
       "4  Which one dissolve in water quikly sugar, salt, methane and carbon di oxide?   \n",
       "\n",
       "                                                                                  question2  \\\n",
       "0                                 What is the step by step guide to invest in share market?   \n",
       "1  What would happen if the Indian government stole the Kohinoor (Koh-i-Noor) diamond back?   \n",
       "2                               How can Internet speed be increased by hacking through DNS?   \n",
       "3                         Find the remainder when [math]23^{24}[/math] is divided by 24,23?   \n",
       "4                                                   Which fish would survive in salt water?   \n",
       "\n",
       "   is_duplicate  \n",
       "0             0  \n",
       "1             0  \n",
       "2             0  \n",
       "3             0  \n",
       "4             0  "
      ]
     },
     "execution_count": 5,
     "metadata": {},
     "output_type": "execute_result"
    }
   ],
   "source": [
    "df.head()"
   ]
  },
  {
   "cell_type": "code",
   "execution_count": 6,
   "metadata": {
    "collapsed": false
   },
   "outputs": [
    {
     "name": "stdout",
     "output_type": "stream",
     "text": [
      "<class 'pandas.core.frame.DataFrame'>\n",
      "RangeIndex: 404290 entries, 0 to 404289\n",
      "Data columns (total 6 columns):\n",
      "id              404290 non-null int64\n",
      "qid1            404290 non-null int64\n",
      "qid2            404290 non-null int64\n",
      "question1       404290 non-null object\n",
      "question2       404288 non-null object\n",
      "is_duplicate    404290 non-null int64\n",
      "dtypes: int64(4), object(2)\n",
      "memory usage: 18.5+ MB\n"
     ]
    }
   ],
   "source": [
    "df.info()"
   ]
  },
  {
   "cell_type": "markdown",
   "metadata": {},
   "source": [
    "# Drop Null Values"
   ]
  },
  {
   "cell_type": "code",
   "execution_count": 7,
   "metadata": {
    "collapsed": false
   },
   "outputs": [],
   "source": [
    "df.dropna(inplace = True)\n",
    "df.drop(['id','qid1','qid2'], axis=1, inplace = True)"
   ]
  },
  {
   "cell_type": "code",
   "execution_count": 8,
   "metadata": {
    "collapsed": false
   },
   "outputs": [
    {
     "data": {
      "text/plain": [
       "(404288, 3)"
      ]
     },
     "execution_count": 8,
     "metadata": {},
     "output_type": "execute_result"
    }
   ],
   "source": [
    "df.shape"
   ]
  },
  {
   "cell_type": "code",
   "execution_count": 9,
   "metadata": {
    "collapsed": false
   },
   "outputs": [
    {
     "data": {
      "text/plain": [
       "0    255025\n",
       "1    149263\n",
       "Name: is_duplicate, dtype: int64"
      ]
     },
     "execution_count": 9,
     "metadata": {},
     "output_type": "execute_result"
    }
   ],
   "source": [
    "df.is_duplicate.value_counts()"
   ]
  },
  {
   "cell_type": "code",
   "execution_count": 22,
   "metadata": {
    "collapsed": false
   },
   "outputs": [
    {
     "data": {
      "text/plain": [
       "is_duplicate\n",
       "0    255025\n",
       "1    149263\n",
       "Name: is_duplicate, dtype: int64"
      ]
     },
     "execution_count": 22,
     "metadata": {},
     "output_type": "execute_result"
    }
   ],
   "source": [
    "df.groupby('is_duplicate').is_duplicate.count()"
   ]
  },
  {
   "cell_type": "code",
   "execution_count": 38,
   "metadata": {
    "collapsed": false
   },
   "outputs": [
    {
     "data": {
      "image/png": "[encoded data removed]",
      "text/plain": [
       "<matplotlib.figure.Figure at 0x1afcf24d0>"
      ]
     },
     "metadata": {},
     "output_type": "display_data"
    }
   ],
   "source": [
    "plt.rcParams['figure.figsize'] = (8, 6)\n",
    "df.groupby('is_duplicate').is_duplicate.count().plot(kind='bar', rot=0)\n",
    "plt.xlabel('Duplicate or Not')\n",
    "plt.ylabel('Number of Paired Questions')\n",
    "plt.title('Distribution of Duplicated Questions of Not', fontsize=20)\n",
    "plt.show()"
   ]
  },
  {
   "cell_type": "markdown",
   "metadata": {},
   "source": [
    "# Split Dataset into df_train and df_test"
   ]
  },
  {
   "cell_type": "code",
   "execution_count": 42,
   "metadata": {
    "collapsed": true
   },
   "outputs": [],
   "source": [
    "X = df[['question1', 'question2']]\n",
    "y = df.is_duplicate"
   ]
  },
  {
   "cell_type": "code",
   "execution_count": 43,
   "metadata": {
    "collapsed": true
   },
   "outputs": [],
   "source": [
    "X_train, X_test, y_train, y_test = train_test_split(X, y, test_size = 0.1)"
   ]
  },
  {
   "cell_type": "code",
   "execution_count": 44,
   "metadata": {
    "collapsed": false
   },
   "outputs": [],
   "source": [
    "df_train = pd.concat([X_train, y_train], axis=1)"
   ]
  },
  {
   "cell_type": "code",
   "execution_count": 45,
   "metadata": {
    "collapsed": false
   },
   "outputs": [],
   "source": [
    "df_test = pd.concat([X_test, y_test], axis=1)"
   ]
  },
  {
   "cell_type": "code",
   "execution_count": 46,
   "metadata": {
    "collapsed": false
   },
   "outputs": [
    {
     "data": {
      "text/plain": [
       "0.63080956738974503"
      ]
     },
     "execution_count": 46,
     "metadata": {},
     "output_type": "execute_result"
    }
   ],
   "source": [
    "# Null Model for df_test\n",
    "y_test.value_counts()[0]/len(y_test)"
   ]
  },
  {
   "cell_type": "markdown",
   "metadata": {},
   "source": [
    "# Method One:  Regular Feature Engineering"
   ]
  },
  {
   "cell_type": "code",
   "execution_count": 47,
   "metadata": {
    "collapsed": false
   },
   "outputs": [],
   "source": [
    "# get unigram for each sentence\n",
    "def get_unigram(sentence):\n",
    "    stopwords_list = set(stopwords.words('english'))\n",
    "    punctuation = set(string.punctuation)\n",
    "    return [word for word in word_tokenize(sentence.lower()) if word not in stopwords_list and\\\n",
    "            word not in punctuation]"
   ]
  },
  {
   "cell_type": "markdown",
   "metadata": {},
   "source": [
    "## Get common_unigram_ratio Feature"
   ]
  },
  {
   "cell_type": "code",
   "execution_count": 48,
   "metadata": {
    "collapsed": false
   },
   "outputs": [
    {
     "ename": "KeyboardInterrupt",
     "evalue": "",
     "output_type": "error",
     "traceback": [
      "\u001b[0;31m---------------------------------------------------------------------------\u001b[0m",
      "\u001b[0;31mKeyboardInterrupt\u001b[0m                         Traceback (most recent call last)",
      "\u001b[0;32m<ipython-input-48-9059507b1fbe>\u001b[0m in \u001b[0;36m<module>\u001b[0;34m()\u001b[0m\n\u001b[1;32m      3\u001b[0m     \u001b[0mdf\u001b[0m\u001b[0;34m[\u001b[0m\u001b[0;34m'question1_unigram'\u001b[0m\u001b[0;34m]\u001b[0m \u001b[0;34m=\u001b[0m \u001b[0mdf\u001b[0m\u001b[0;34m[\u001b[0m\u001b[0;34m'question1'\u001b[0m\u001b[0;34m]\u001b[0m\u001b[0;34m.\u001b[0m\u001b[0mapply\u001b[0m\u001b[0;34m(\u001b[0m\u001b[0;32mlambda\u001b[0m \u001b[0mx\u001b[0m\u001b[0;34m:\u001b[0m                                                     \u001b[0mget_unigram\u001b[0m\u001b[0;34m(\u001b[0m\u001b[0mx\u001b[0m\u001b[0;34m.\u001b[0m\u001b[0mdecode\u001b[0m\u001b[0;34m(\u001b[0m\u001b[0mencoding\u001b[0m\u001b[0;34m=\u001b[0m\u001b[0;34m'utf-8'\u001b[0m\u001b[0;34m)\u001b[0m\u001b[0;34m)\u001b[0m\u001b[0;34m)\u001b[0m\u001b[0;34m\u001b[0m\u001b[0m\n\u001b[1;32m      4\u001b[0m     \u001b[0mdf\u001b[0m\u001b[0;34m[\u001b[0m\u001b[0;34m'question2_unigram'\u001b[0m\u001b[0;34m]\u001b[0m \u001b[0;34m=\u001b[0m \u001b[0mdf\u001b[0m\u001b[0;34m[\u001b[0m\u001b[0;34m'question2'\u001b[0m\u001b[0;34m]\u001b[0m\u001b[0;34m.\u001b[0m\u001b[0mapply\u001b[0m\u001b[0;34m(\u001b[0m\u001b[0;32mlambda\u001b[0m \u001b[0mx\u001b[0m\u001b[0;34m:\u001b[0m                                                     \u001b[0mget_unigram\u001b[0m\u001b[0;34m(\u001b[0m\u001b[0mx\u001b[0m\u001b[0;34m.\u001b[0m\u001b[0mdecode\u001b[0m\u001b[0;34m(\u001b[0m\u001b[0mencoding\u001b[0m\u001b[0;34m=\u001b[0m\u001b[0;34m'utf-8'\u001b[0m\u001b[0;34m)\u001b[0m\u001b[0;34m)\u001b[0m\u001b[0;34m)\u001b[0m\u001b[0;34m\u001b[0m\u001b[0m\n\u001b[0;32m----> 5\u001b[0;31m \u001b[0mget_unigram_df\u001b[0m\u001b[0;34m(\u001b[0m\u001b[0mdf\u001b[0m\u001b[0;34m)\u001b[0m\u001b[0;34m\u001b[0m\u001b[0m\n\u001b[0m",
      "\u001b[0;32m<ipython-input-48-9059507b1fbe>\u001b[0m in \u001b[0;36mget_unigram_df\u001b[0;34m(df)\u001b[0m\n\u001b[1;32m      2\u001b[0m \u001b[0;32mdef\u001b[0m \u001b[0mget_unigram_df\u001b[0m\u001b[0;34m(\u001b[0m\u001b[0mdf\u001b[0m\u001b[0;34m)\u001b[0m\u001b[0;34m:\u001b[0m\u001b[0;34m\u001b[0m\u001b[0m\n\u001b[1;32m      3\u001b[0m     \u001b[0mdf\u001b[0m\u001b[0;34m[\u001b[0m\u001b[0;34m'question1_unigram'\u001b[0m\u001b[0;34m]\u001b[0m \u001b[0;34m=\u001b[0m \u001b[0mdf\u001b[0m\u001b[0;34m[\u001b[0m\u001b[0;34m'question1'\u001b[0m\u001b[0;34m]\u001b[0m\u001b[0;34m.\u001b[0m\u001b[0mapply\u001b[0m\u001b[0;34m(\u001b[0m\u001b[0;32mlambda\u001b[0m \u001b[0mx\u001b[0m\u001b[0;34m:\u001b[0m                                                     \u001b[0mget_unigram\u001b[0m\u001b[0;34m(\u001b[0m\u001b[0mx\u001b[0m\u001b[0;34m.\u001b[0m\u001b[0mdecode\u001b[0m\u001b[0;34m(\u001b[0m\u001b[0mencoding\u001b[0m\u001b[0;34m=\u001b[0m\u001b[0;34m'utf-8'\u001b[0m\u001b[0;34m)\u001b[0m\u001b[0;34m)\u001b[0m\u001b[0;34m)\u001b[0m\u001b[0;34m\u001b[0m\u001b[0m\n\u001b[0;32m----> 4\u001b[0;31m     \u001b[0mdf\u001b[0m\u001b[0;34m[\u001b[0m\u001b[0;34m'question2_unigram'\u001b[0m\u001b[0;34m]\u001b[0m \u001b[0;34m=\u001b[0m \u001b[0mdf\u001b[0m\u001b[0;34m[\u001b[0m\u001b[0;34m'question2'\u001b[0m\u001b[0;34m]\u001b[0m\u001b[0;34m.\u001b[0m\u001b[0mapply\u001b[0m\u001b[0;34m(\u001b[0m\u001b[0;32mlambda\u001b[0m \u001b[0mx\u001b[0m\u001b[0;34m:\u001b[0m                                                     \u001b[0mget_unigram\u001b[0m\u001b[0;34m(\u001b[0m\u001b[0mx\u001b[0m\u001b[0;34m.\u001b[0m\u001b[0mdecode\u001b[0m\u001b[0;34m(\u001b[0m\u001b[0mencoding\u001b[0m\u001b[0;34m=\u001b[0m\u001b[0;34m'utf-8'\u001b[0m\u001b[0;34m)\u001b[0m\u001b[0;34m)\u001b[0m\u001b[0;34m)\u001b[0m\u001b[0;34m\u001b[0m\u001b[0m\n\u001b[0m\u001b[1;32m      5\u001b[0m \u001b[0mget_unigram_df\u001b[0m\u001b[0;34m(\u001b[0m\u001b[0mdf\u001b[0m\u001b[0;34m)\u001b[0m\u001b[0;34m\u001b[0m\u001b[0m\n",
      "\u001b[0;32m/Users/lihuama/anaconda2/lib/python2.7/site-packages/pandas/core/series.pyc\u001b[0m in \u001b[0;36mapply\u001b[0;34m(self, func, convert_dtype, args, **kwds)\u001b[0m\n\u001b[1;32m   2292\u001b[0m             \u001b[0;32melse\u001b[0m\u001b[0;34m:\u001b[0m\u001b[0;34m\u001b[0m\u001b[0m\n\u001b[1;32m   2293\u001b[0m                 \u001b[0mvalues\u001b[0m \u001b[0;34m=\u001b[0m \u001b[0mself\u001b[0m\u001b[0;34m.\u001b[0m\u001b[0masobject\u001b[0m\u001b[0;34m\u001b[0m\u001b[0m\n\u001b[0;32m-> 2294\u001b[0;31m                 \u001b[0mmapped\u001b[0m \u001b[0;34m=\u001b[0m \u001b[0mlib\u001b[0m\u001b[0;34m.\u001b[0m\u001b[0mmap_infer\u001b[0m\u001b[0;34m(\u001b[0m\u001b[0mvalues\u001b[0m\u001b[0;34m,\u001b[0m \u001b[0mf\u001b[0m\u001b[0;34m,\u001b[0m \u001b[0mconvert\u001b[0m\u001b[0;34m=\u001b[0m\u001b[0mconvert_dtype\u001b[0m\u001b[0;34m)\u001b[0m\u001b[0;34m\u001b[0m\u001b[0m\n\u001b[0m\u001b[1;32m   2295\u001b[0m \u001b[0;34m\u001b[0m\u001b[0m\n\u001b[1;32m   2296\u001b[0m         \u001b[0;32mif\u001b[0m \u001b[0mlen\u001b[0m\u001b[0;34m(\u001b[0m\u001b[0mmapped\u001b[0m\u001b[0;34m)\u001b[0m \u001b[0;32mand\u001b[0m \u001b[0misinstance\u001b[0m\u001b[0;34m(\u001b[0m\u001b[0mmapped\u001b[0m\u001b[0;34m[\u001b[0m\u001b[0;36m0\u001b[0m\u001b[0;34m]\u001b[0m\u001b[0;34m,\u001b[0m \u001b[0mSeries\u001b[0m\u001b[0;34m)\u001b[0m\u001b[0;34m:\u001b[0m\u001b[0;34m\u001b[0m\u001b[0m\n",
      "\u001b[0;32mpandas/src/inference.pyx\u001b[0m in \u001b[0;36mpandas.lib.map_infer (pandas/lib.c:66124)\u001b[0;34m()\u001b[0m\n",
      "\u001b[0;32m<ipython-input-48-9059507b1fbe>\u001b[0m in \u001b[0;36m<lambda>\u001b[0;34m(x)\u001b[0m\n\u001b[1;32m      2\u001b[0m \u001b[0;32mdef\u001b[0m \u001b[0mget_unigram_df\u001b[0m\u001b[0;34m(\u001b[0m\u001b[0mdf\u001b[0m\u001b[0;34m)\u001b[0m\u001b[0;34m:\u001b[0m\u001b[0;34m\u001b[0m\u001b[0m\n\u001b[1;32m      3\u001b[0m     \u001b[0mdf\u001b[0m\u001b[0;34m[\u001b[0m\u001b[0;34m'question1_unigram'\u001b[0m\u001b[0;34m]\u001b[0m \u001b[0;34m=\u001b[0m \u001b[0mdf\u001b[0m\u001b[0;34m[\u001b[0m\u001b[0;34m'question1'\u001b[0m\u001b[0;34m]\u001b[0m\u001b[0;34m.\u001b[0m\u001b[0mapply\u001b[0m\u001b[0;34m(\u001b[0m\u001b[0;32mlambda\u001b[0m \u001b[0mx\u001b[0m\u001b[0;34m:\u001b[0m                                                     \u001b[0mget_unigram\u001b[0m\u001b[0;34m(\u001b[0m\u001b[0mx\u001b[0m\u001b[0;34m.\u001b[0m\u001b[0mdecode\u001b[0m\u001b[0;34m(\u001b[0m\u001b[0mencoding\u001b[0m\u001b[0;34m=\u001b[0m\u001b[0;34m'utf-8'\u001b[0m\u001b[0;34m)\u001b[0m\u001b[0;34m)\u001b[0m\u001b[0;34m)\u001b[0m\u001b[0;34m\u001b[0m\u001b[0m\n\u001b[0;32m----> 4\u001b[0;31m     \u001b[0mdf\u001b[0m\u001b[0;34m[\u001b[0m\u001b[0;34m'question2_unigram'\u001b[0m\u001b[0;34m]\u001b[0m \u001b[0;34m=\u001b[0m \u001b[0mdf\u001b[0m\u001b[0;34m[\u001b[0m\u001b[0;34m'question2'\u001b[0m\u001b[0;34m]\u001b[0m\u001b[0;34m.\u001b[0m\u001b[0mapply\u001b[0m\u001b[0;34m(\u001b[0m\u001b[0;32mlambda\u001b[0m \u001b[0mx\u001b[0m\u001b[0;34m:\u001b[0m                                                     \u001b[0mget_unigram\u001b[0m\u001b[0;34m(\u001b[0m\u001b[0mx\u001b[0m\u001b[0;34m.\u001b[0m\u001b[0mdecode\u001b[0m\u001b[0;34m(\u001b[0m\u001b[0mencoding\u001b[0m\u001b[0;34m=\u001b[0m\u001b[0;34m'utf-8'\u001b[0m\u001b[0;34m)\u001b[0m\u001b[0;34m)\u001b[0m\u001b[0;34m)\u001b[0m\u001b[0;34m\u001b[0m\u001b[0m\n\u001b[0m\u001b[1;32m      5\u001b[0m \u001b[0mget_unigram_df\u001b[0m\u001b[0;34m(\u001b[0m\u001b[0mdf\u001b[0m\u001b[0;34m)\u001b[0m\u001b[0;34m\u001b[0m\u001b[0m\n",
      "\u001b[0;32m<ipython-input-47-28fd520241f6>\u001b[0m in \u001b[0;36mget_unigram\u001b[0;34m(sentence)\u001b[0m\n\u001b[1;32m      1\u001b[0m \u001b[0;31m# get unigram for each sentence\u001b[0m\u001b[0;34m\u001b[0m\u001b[0;34m\u001b[0m\u001b[0m\n\u001b[1;32m      2\u001b[0m \u001b[0;32mdef\u001b[0m \u001b[0mget_unigram\u001b[0m\u001b[0;34m(\u001b[0m\u001b[0msentence\u001b[0m\u001b[0;34m)\u001b[0m\u001b[0;34m:\u001b[0m\u001b[0;34m\u001b[0m\u001b[0m\n\u001b[0;32m----> 3\u001b[0;31m     \u001b[0mstopwords_list\u001b[0m \u001b[0;34m=\u001b[0m \u001b[0mset\u001b[0m\u001b[0;34m(\u001b[0m\u001b[0mstopwords\u001b[0m\u001b[0;34m.\u001b[0m\u001b[0mwords\u001b[0m\u001b[0;34m(\u001b[0m\u001b[0;34m'english'\u001b[0m\u001b[0;34m)\u001b[0m\u001b[0;34m)\u001b[0m\u001b[0;34m\u001b[0m\u001b[0m\n\u001b[0m\u001b[1;32m      4\u001b[0m     \u001b[0mpunctuation\u001b[0m \u001b[0;34m=\u001b[0m \u001b[0mset\u001b[0m\u001b[0;34m(\u001b[0m\u001b[0mstring\u001b[0m\u001b[0;34m.\u001b[0m\u001b[0mpunctuation\u001b[0m\u001b[0;34m)\u001b[0m\u001b[0;34m\u001b[0m\u001b[0m\n\u001b[1;32m      5\u001b[0m     \u001b[0;32mreturn\u001b[0m \u001b[0;34m[\u001b[0m\u001b[0mword\u001b[0m \u001b[0;32mfor\u001b[0m \u001b[0mword\u001b[0m \u001b[0;32min\u001b[0m \u001b[0mword_tokenize\u001b[0m\u001b[0;34m(\u001b[0m\u001b[0msentence\u001b[0m\u001b[0;34m.\u001b[0m\u001b[0mlower\u001b[0m\u001b[0;34m(\u001b[0m\u001b[0;34m)\u001b[0m\u001b[0;34m)\u001b[0m \u001b[0;32mif\u001b[0m \u001b[0mword\u001b[0m \u001b[0;32mnot\u001b[0m \u001b[0;32min\u001b[0m \u001b[0mstopwords_list\u001b[0m \u001b[0;32mand\u001b[0m            \u001b[0mword\u001b[0m \u001b[0;32mnot\u001b[0m \u001b[0;32min\u001b[0m \u001b[0mpunctuation\u001b[0m\u001b[0;34m]\u001b[0m\u001b[0;34m\u001b[0m\u001b[0m\n",
      "\u001b[0;32m/Users/lihuama/anaconda2/lib/python2.7/site-packages/nltk/corpus/reader/wordlist.pyc\u001b[0m in \u001b[0;36mwords\u001b[0;34m(self, fileids, ignore_lines_startswith)\u001b[0m\n\u001b[1;32m     19\u001b[0m     \"\"\"\n\u001b[1;32m     20\u001b[0m     \u001b[0;32mdef\u001b[0m \u001b[0mwords\u001b[0m\u001b[0;34m(\u001b[0m\u001b[0mself\u001b[0m\u001b[0;34m,\u001b[0m \u001b[0mfileids\u001b[0m\u001b[0;34m=\u001b[0m\u001b[0mNone\u001b[0m\u001b[0;34m,\u001b[0m \u001b[0mignore_lines_startswith\u001b[0m\u001b[0;34m=\u001b[0m\u001b[0;34m'\\n'\u001b[0m\u001b[0;34m)\u001b[0m\u001b[0;34m:\u001b[0m\u001b[0;34m\u001b[0m\u001b[0m\n\u001b[0;32m---> 21\u001b[0;31m         return [line for line in line_tokenize(self.raw(fileids))\n\u001b[0m\u001b[1;32m     22\u001b[0m                 if not line.startswith(ignore_lines_startswith)]\n\u001b[1;32m     23\u001b[0m \u001b[0;34m\u001b[0m\u001b[0m\n",
      "\u001b[0;32m/Users/lihuama/anaconda2/lib/python2.7/site-packages/nltk/corpus/reader/wordlist.pyc\u001b[0m in \u001b[0;36mraw\u001b[0;34m(self, fileids)\u001b[0m\n\u001b[1;32m     25\u001b[0m         \u001b[0;32mif\u001b[0m \u001b[0mfileids\u001b[0m \u001b[0;32mis\u001b[0m \u001b[0mNone\u001b[0m\u001b[0;34m:\u001b[0m \u001b[0mfileids\u001b[0m \u001b[0;34m=\u001b[0m \u001b[0mself\u001b[0m\u001b[0;34m.\u001b[0m\u001b[0m_fileids\u001b[0m\u001b[0;34m\u001b[0m\u001b[0m\n\u001b[1;32m     26\u001b[0m         \u001b[0;32melif\u001b[0m \u001b[0misinstance\u001b[0m\u001b[0;34m(\u001b[0m\u001b[0mfileids\u001b[0m\u001b[0;34m,\u001b[0m \u001b[0mcompat\u001b[0m\u001b[0;34m.\u001b[0m\u001b[0mstring_types\u001b[0m\u001b[0;34m)\u001b[0m\u001b[0;34m:\u001b[0m \u001b[0mfileids\u001b[0m \u001b[0;34m=\u001b[0m \u001b[0;34m[\u001b[0m\u001b[0mfileids\u001b[0m\u001b[0;34m]\u001b[0m\u001b[0;34m\u001b[0m\u001b[0m\n\u001b[0;32m---> 27\u001b[0;31m         \u001b[0;32mreturn\u001b[0m \u001b[0mconcat\u001b[0m\u001b[0;34m(\u001b[0m\u001b[0;34m[\u001b[0m\u001b[0mself\u001b[0m\u001b[0;34m.\u001b[0m\u001b[0mopen\u001b[0m\u001b[0;34m(\u001b[0m\u001b[0mf\u001b[0m\u001b[0;34m)\u001b[0m\u001b[0;34m.\u001b[0m\u001b[0mread\u001b[0m\u001b[0;34m(\u001b[0m\u001b[0;34m)\u001b[0m \u001b[0;32mfor\u001b[0m \u001b[0mf\u001b[0m \u001b[0;32min\u001b[0m \u001b[0mfileids\u001b[0m\u001b[0;34m]\u001b[0m\u001b[0;34m)\u001b[0m\u001b[0;34m\u001b[0m\u001b[0m\n\u001b[0m\u001b[1;32m     28\u001b[0m \u001b[0;34m\u001b[0m\u001b[0m\n\u001b[1;32m     29\u001b[0m \u001b[0;34m\u001b[0m\u001b[0m\n",
      "\u001b[0;32m/Users/lihuama/anaconda2/lib/python2.7/site-packages/nltk/corpus/reader/api.pyc\u001b[0m in \u001b[0;36mopen\u001b[0;34m(self, file)\u001b[0m\n\u001b[1;32m    209\u001b[0m         \"\"\"\n\u001b[1;32m    210\u001b[0m         \u001b[0mencoding\u001b[0m \u001b[0;34m=\u001b[0m \u001b[0mself\u001b[0m\u001b[0;34m.\u001b[0m\u001b[0mencoding\u001b[0m\u001b[0;34m(\u001b[0m\u001b[0mfile\u001b[0m\u001b[0;34m)\u001b[0m\u001b[0;34m\u001b[0m\u001b[0m\n\u001b[0;32m--> 211\u001b[0;31m         \u001b[0mstream\u001b[0m \u001b[0;34m=\u001b[0m \u001b[0mself\u001b[0m\u001b[0;34m.\u001b[0m\u001b[0m_root\u001b[0m\u001b[0;34m.\u001b[0m\u001b[0mjoin\u001b[0m\u001b[0;34m(\u001b[0m\u001b[0mfile\u001b[0m\u001b[0;34m)\u001b[0m\u001b[0;34m.\u001b[0m\u001b[0mopen\u001b[0m\u001b[0;34m(\u001b[0m\u001b[0mencoding\u001b[0m\u001b[0;34m)\u001b[0m\u001b[0;34m\u001b[0m\u001b[0m\n\u001b[0m\u001b[1;32m    212\u001b[0m         \u001b[0;32mreturn\u001b[0m \u001b[0mstream\u001b[0m\u001b[0;34m\u001b[0m\u001b[0m\n\u001b[1;32m    213\u001b[0m \u001b[0;34m\u001b[0m\u001b[0m\n",
      "\u001b[0;32m/Users/lihuama/anaconda2/lib/python2.7/site-packages/nltk/data.pyc\u001b[0m in \u001b[0;36mopen\u001b[0;34m(self, encoding)\u001b[0m\n\u001b[1;32m    312\u001b[0m         \u001b[0mstream\u001b[0m \u001b[0;34m=\u001b[0m \u001b[0mopen\u001b[0m\u001b[0;34m(\u001b[0m\u001b[0mself\u001b[0m\u001b[0;34m.\u001b[0m\u001b[0m_path\u001b[0m\u001b[0;34m,\u001b[0m \u001b[0;34m'rb'\u001b[0m\u001b[0;34m)\u001b[0m\u001b[0;34m\u001b[0m\u001b[0m\n\u001b[1;32m    313\u001b[0m         \u001b[0;32mif\u001b[0m \u001b[0mencoding\u001b[0m \u001b[0;32mis\u001b[0m \u001b[0;32mnot\u001b[0m \u001b[0mNone\u001b[0m\u001b[0;34m:\u001b[0m\u001b[0;34m\u001b[0m\u001b[0m\n\u001b[0;32m--> 314\u001b[0;31m             \u001b[0mstream\u001b[0m \u001b[0;34m=\u001b[0m \u001b[0mSeekableUnicodeStreamReader\u001b[0m\u001b[0;34m(\u001b[0m\u001b[0mstream\u001b[0m\u001b[0;34m,\u001b[0m \u001b[0mencoding\u001b[0m\u001b[0;34m)\u001b[0m\u001b[0;34m\u001b[0m\u001b[0m\n\u001b[0m\u001b[1;32m    315\u001b[0m         \u001b[0;32mreturn\u001b[0m \u001b[0mstream\u001b[0m\u001b[0;34m\u001b[0m\u001b[0m\n\u001b[1;32m    316\u001b[0m \u001b[0;34m\u001b[0m\u001b[0m\n",
      "\u001b[0;32m/Users/lihuama/anaconda2/lib/python2.7/site-packages/nltk/compat.pyc\u001b[0m in \u001b[0;36m_decorator\u001b[0;34m(*args, **kwargs)\u001b[0m\n\u001b[1;32m    364\u001b[0m     \u001b[0;32mdef\u001b[0m \u001b[0m_decorator\u001b[0m\u001b[0;34m(\u001b[0m\u001b[0;34m*\u001b[0m\u001b[0margs\u001b[0m\u001b[0;34m,\u001b[0m \u001b[0;34m**\u001b[0m\u001b[0mkwargs\u001b[0m\u001b[0;34m)\u001b[0m\u001b[0;34m:\u001b[0m\u001b[0;34m\u001b[0m\u001b[0m\n\u001b[1;32m    365\u001b[0m         \u001b[0margs\u001b[0m \u001b[0;34m=\u001b[0m \u001b[0;34m(\u001b[0m\u001b[0margs\u001b[0m\u001b[0;34m[\u001b[0m\u001b[0;36m0\u001b[0m\u001b[0;34m]\u001b[0m\u001b[0;34m,\u001b[0m \u001b[0madd_py3_data\u001b[0m\u001b[0;34m(\u001b[0m\u001b[0margs\u001b[0m\u001b[0;34m[\u001b[0m\u001b[0;36m1\u001b[0m\u001b[0;34m]\u001b[0m\u001b[0;34m)\u001b[0m\u001b[0;34m)\u001b[0m \u001b[0;34m+\u001b[0m \u001b[0margs\u001b[0m\u001b[0;34m[\u001b[0m\u001b[0;36m2\u001b[0m\u001b[0;34m:\u001b[0m\u001b[0;34m]\u001b[0m\u001b[0;34m\u001b[0m\u001b[0m\n\u001b[0;32m--> 366\u001b[0;31m         \u001b[0;32mreturn\u001b[0m \u001b[0minit_func\u001b[0m\u001b[0;34m(\u001b[0m\u001b[0;34m*\u001b[0m\u001b[0margs\u001b[0m\u001b[0;34m,\u001b[0m \u001b[0;34m**\u001b[0m\u001b[0mkwargs\u001b[0m\u001b[0;34m)\u001b[0m\u001b[0;34m\u001b[0m\u001b[0m\n\u001b[0m\u001b[1;32m    367\u001b[0m     \u001b[0;32mreturn\u001b[0m \u001b[0mwraps\u001b[0m\u001b[0;34m(\u001b[0m\u001b[0minit_func\u001b[0m\u001b[0;34m)\u001b[0m\u001b[0;34m(\u001b[0m\u001b[0m_decorator\u001b[0m\u001b[0;34m)\u001b[0m\u001b[0;34m\u001b[0m\u001b[0m\n\u001b[1;32m    368\u001b[0m \u001b[0;34m\u001b[0m\u001b[0m\n",
      "\u001b[0;32m/Users/lihuama/anaconda2/lib/python2.7/site-packages/nltk/data.pyc\u001b[0m in \u001b[0;36m__init__\u001b[0;34m(self, stream, encoding, errors)\u001b[0m\n\u001b[1;32m   1084\u001b[0m            beginning of ``linebuffer`` (which is required by ``tell()``).\"\"\"\n\u001b[1;32m   1085\u001b[0m \u001b[0;34m\u001b[0m\u001b[0m\n\u001b[0;32m-> 1086\u001b[0;31m         \u001b[0mself\u001b[0m\u001b[0;34m.\u001b[0m\u001b[0m_bom\u001b[0m \u001b[0;34m=\u001b[0m \u001b[0mself\u001b[0m\u001b[0;34m.\u001b[0m\u001b[0m_check_bom\u001b[0m\u001b[0;34m(\u001b[0m\u001b[0;34m)\u001b[0m\u001b[0;34m\u001b[0m\u001b[0m\n\u001b[0m\u001b[1;32m   1087\u001b[0m         \"\"\"The length of the byte order marker at the beginning of\n\u001b[1;32m   1088\u001b[0m            the stream (or None for no byte order marker).\"\"\"\n",
      "\u001b[0;32m/Users/lihuama/anaconda2/lib/python2.7/site-packages/nltk/data.pyc\u001b[0m in \u001b[0;36m_check_bom\u001b[0;34m(self)\u001b[0m\n\u001b[1;32m   1440\u001b[0m         \u001b[0;32mif\u001b[0m \u001b[0mbom_info\u001b[0m\u001b[0;34m:\u001b[0m\u001b[0;34m\u001b[0m\u001b[0m\n\u001b[1;32m   1441\u001b[0m             \u001b[0;31m# Read a prefix, to check against the BOM(s)\u001b[0m\u001b[0;34m\u001b[0m\u001b[0;34m\u001b[0m\u001b[0m\n\u001b[0;32m-> 1442\u001b[0;31m             \u001b[0mbytes\u001b[0m \u001b[0;34m=\u001b[0m \u001b[0mself\u001b[0m\u001b[0;34m.\u001b[0m\u001b[0mstream\u001b[0m\u001b[0;34m.\u001b[0m\u001b[0mread\u001b[0m\u001b[0;34m(\u001b[0m\u001b[0;36m16\u001b[0m\u001b[0;34m)\u001b[0m\u001b[0;34m\u001b[0m\u001b[0m\n\u001b[0m\u001b[1;32m   1443\u001b[0m             \u001b[0mself\u001b[0m\u001b[0;34m.\u001b[0m\u001b[0mstream\u001b[0m\u001b[0;34m.\u001b[0m\u001b[0mseek\u001b[0m\u001b[0;34m(\u001b[0m\u001b[0;36m0\u001b[0m\u001b[0;34m)\u001b[0m\u001b[0;34m\u001b[0m\u001b[0m\n\u001b[1;32m   1444\u001b[0m \u001b[0;34m\u001b[0m\u001b[0m\n",
      "\u001b[0;31mKeyboardInterrupt\u001b[0m: "
     ]
    }
   ],
   "source": [
    "# get unigrams of question1 and question2\n",
    "def get_unigram_df(df):\n",
    "    df['question1_unigram'] = df['question1'].apply(lambda x:\\\n",
    "                                                     get_unigram(x.decode(encoding='utf-8')))\n",
    "    df['question2_unigram'] = df['question2'].apply(lambda x:\\\n",
    "                                                     get_unigram(x.decode(encoding='utf-8')))"
   ]
  },
  {
   "cell_type": "code",
   "execution_count": null,
   "metadata": {
    "collapsed": true
   },
   "outputs": [],
   "source": [
    "get_unigram_df(df)"
   ]
  },
  {
   "cell_type": "code",
   "execution_count": 33,
   "metadata": {
    "collapsed": false
   },
   "outputs": [],
   "source": [
    "# get common_unigram_ratio\n",
    "def get_common_unigram_ratio(df):\n",
    "    df['common_unigram_count'] = df.apply(lambda x: len(set(x['question1_unigram']).\\\n",
    "                                        intersection(set(x['question2_unigram']))), axis=1)\n",
    "    df['unigram_count'] = df.apply(lambda x: max(len(set(x['question1_unigram']).\\\n",
    "                                   union(set(x['question2_unigram']))), 1), axis=1)\n",
    "    df['common_unigram_ratio'] = df['common_unigram_count'] / df['unigram_count']"
   ]
  },
  {
   "cell_type": "code",
   "execution_count": null,
   "metadata": {
    "collapsed": true
   },
   "outputs": [],
   "source": [
    "get_common_unigram_ratio(df)"
   ]
  },
  {
   "cell_type": "code",
   "execution_count": 39,
   "metadata": {
    "collapsed": false
   },
   "outputs": [
    {
     "ename": "ValueError",
     "evalue": "Could not interpret input 'common_unigram_ratio'",
     "output_type": "error",
     "traceback": [
      "\u001b[0;31m---------------------------------------------------------------------------\u001b[0m",
      "\u001b[0;31mValueError\u001b[0m                                Traceback (most recent call last)",
      "\u001b[0;32m<ipython-input-39-4bb823419af0>\u001b[0m in \u001b[0;36m<module>\u001b[0;34m()\u001b[0m\n\u001b[1;32m      1\u001b[0m \u001b[0;31m# picture to show common_unigram_ratio between two classes\u001b[0m\u001b[0;34m\u001b[0m\u001b[0;34m\u001b[0m\u001b[0m\n\u001b[1;32m      2\u001b[0m \u001b[0mplt\u001b[0m\u001b[0;34m.\u001b[0m\u001b[0mfigure\u001b[0m\u001b[0;34m(\u001b[0m\u001b[0mfigsize\u001b[0m\u001b[0;34m=\u001b[0m\u001b[0;34m(\u001b[0m\u001b[0;36m8\u001b[0m\u001b[0;34m,\u001b[0m\u001b[0;36m6\u001b[0m\u001b[0;34m)\u001b[0m\u001b[0;34m)\u001b[0m\u001b[0;34m\u001b[0m\u001b[0m\n\u001b[0;32m----> 3\u001b[0;31m \u001b[0msns\u001b[0m\u001b[0;34m.\u001b[0m\u001b[0mviolinplot\u001b[0m\u001b[0;34m(\u001b[0m\u001b[0mx\u001b[0m\u001b[0;34m=\u001b[0m\u001b[0;34m'is_duplicate'\u001b[0m\u001b[0;34m,\u001b[0m \u001b[0my\u001b[0m\u001b[0;34m=\u001b[0m\u001b[0;34m'common_unigram_ratio'\u001b[0m\u001b[0;34m,\u001b[0m \u001b[0mdata\u001b[0m\u001b[0;34m=\u001b[0m\u001b[0mdf_train\u001b[0m\u001b[0;34m)\u001b[0m\u001b[0;34m\u001b[0m\u001b[0m\n\u001b[0m\u001b[1;32m      4\u001b[0m \u001b[0mplt\u001b[0m\u001b[0;34m.\u001b[0m\u001b[0mtitle\u001b[0m\u001b[0;34m(\u001b[0m\u001b[0;34m'Common_Unigram_Ratio Difference Between Two Classes'\u001b[0m\u001b[0;34m,\u001b[0m \u001b[0mfontsize\u001b[0m\u001b[0;34m=\u001b[0m\u001b[0;36m20\u001b[0m\u001b[0;34m)\u001b[0m\u001b[0;34m\u001b[0m\u001b[0m\n\u001b[1;32m      5\u001b[0m \u001b[0mplt\u001b[0m\u001b[0;34m.\u001b[0m\u001b[0msavefig\u001b[0m\u001b[0;34m(\u001b[0m\u001b[0;34m'image/common_unigram_ratio_violinplot'\u001b[0m\u001b[0;34m)\u001b[0m\u001b[0;34m\u001b[0m\u001b[0m\n",
      "\u001b[0;32m/Users/lihuama/anaconda2/lib/python2.7/site-packages/seaborn/categorical.pyc\u001b[0m in \u001b[0;36mviolinplot\u001b[0;34m(x, y, hue, data, order, hue_order, bw, cut, scale, scale_hue, gridsize, width, inner, split, orient, linewidth, color, palette, saturation, ax, **kwargs)\u001b[0m\n\u001b[1;32m   2345\u001b[0m                              \u001b[0mbw\u001b[0m\u001b[0;34m,\u001b[0m \u001b[0mcut\u001b[0m\u001b[0;34m,\u001b[0m \u001b[0mscale\u001b[0m\u001b[0;34m,\u001b[0m \u001b[0mscale_hue\u001b[0m\u001b[0;34m,\u001b[0m \u001b[0mgridsize\u001b[0m\u001b[0;34m,\u001b[0m\u001b[0;34m\u001b[0m\u001b[0m\n\u001b[1;32m   2346\u001b[0m                              \u001b[0mwidth\u001b[0m\u001b[0;34m,\u001b[0m \u001b[0minner\u001b[0m\u001b[0;34m,\u001b[0m \u001b[0msplit\u001b[0m\u001b[0;34m,\u001b[0m \u001b[0morient\u001b[0m\u001b[0;34m,\u001b[0m \u001b[0mlinewidth\u001b[0m\u001b[0;34m,\u001b[0m\u001b[0;34m\u001b[0m\u001b[0m\n\u001b[0;32m-> 2347\u001b[0;31m                              color, palette, saturation)\n\u001b[0m\u001b[1;32m   2348\u001b[0m \u001b[0;34m\u001b[0m\u001b[0m\n\u001b[1;32m   2349\u001b[0m     \u001b[0;32mif\u001b[0m \u001b[0max\u001b[0m \u001b[0;32mis\u001b[0m \u001b[0mNone\u001b[0m\u001b[0;34m:\u001b[0m\u001b[0;34m\u001b[0m\u001b[0m\n",
      "\u001b[0;32m/Users/lihuama/anaconda2/lib/python2.7/site-packages/seaborn/categorical.pyc\u001b[0m in \u001b[0;36m__init__\u001b[0;34m(self, x, y, hue, data, order, hue_order, bw, cut, scale, scale_hue, gridsize, width, inner, split, orient, linewidth, color, palette, saturation)\u001b[0m\n\u001b[1;32m    539\u001b[0m                  color, palette, saturation):\n\u001b[1;32m    540\u001b[0m \u001b[0;34m\u001b[0m\u001b[0m\n\u001b[0;32m--> 541\u001b[0;31m         \u001b[0mself\u001b[0m\u001b[0;34m.\u001b[0m\u001b[0mestablish_variables\u001b[0m\u001b[0;34m(\u001b[0m\u001b[0mx\u001b[0m\u001b[0;34m,\u001b[0m \u001b[0my\u001b[0m\u001b[0;34m,\u001b[0m \u001b[0mhue\u001b[0m\u001b[0;34m,\u001b[0m \u001b[0mdata\u001b[0m\u001b[0;34m,\u001b[0m \u001b[0morient\u001b[0m\u001b[0;34m,\u001b[0m \u001b[0morder\u001b[0m\u001b[0;34m,\u001b[0m \u001b[0mhue_order\u001b[0m\u001b[0;34m)\u001b[0m\u001b[0;34m\u001b[0m\u001b[0m\n\u001b[0m\u001b[1;32m    542\u001b[0m         \u001b[0mself\u001b[0m\u001b[0;34m.\u001b[0m\u001b[0mestablish_colors\u001b[0m\u001b[0;34m(\u001b[0m\u001b[0mcolor\u001b[0m\u001b[0;34m,\u001b[0m \u001b[0mpalette\u001b[0m\u001b[0;34m,\u001b[0m \u001b[0msaturation\u001b[0m\u001b[0;34m)\u001b[0m\u001b[0;34m\u001b[0m\u001b[0m\n\u001b[1;32m    543\u001b[0m         \u001b[0mself\u001b[0m\u001b[0;34m.\u001b[0m\u001b[0mestimate_densities\u001b[0m\u001b[0;34m(\u001b[0m\u001b[0mbw\u001b[0m\u001b[0;34m,\u001b[0m \u001b[0mcut\u001b[0m\u001b[0;34m,\u001b[0m \u001b[0mscale\u001b[0m\u001b[0;34m,\u001b[0m \u001b[0mscale_hue\u001b[0m\u001b[0;34m,\u001b[0m \u001b[0mgridsize\u001b[0m\u001b[0;34m)\u001b[0m\u001b[0;34m\u001b[0m\u001b[0m\n",
      "\u001b[0;32m/Users/lihuama/anaconda2/lib/python2.7/site-packages/seaborn/categorical.pyc\u001b[0m in \u001b[0;36mestablish_variables\u001b[0;34m(self, x, y, hue, data, orient, order, hue_order, units)\u001b[0m\n\u001b[1;32m    149\u001b[0m                 \u001b[0;32mif\u001b[0m \u001b[0misinstance\u001b[0m\u001b[0;34m(\u001b[0m\u001b[0minput\u001b[0m\u001b[0;34m,\u001b[0m \u001b[0mstring_types\u001b[0m\u001b[0;34m)\u001b[0m\u001b[0;34m:\u001b[0m\u001b[0;34m\u001b[0m\u001b[0m\n\u001b[1;32m    150\u001b[0m                     \u001b[0merr\u001b[0m \u001b[0;34m=\u001b[0m \u001b[0;34m\"Could not interpret input '{}'\"\u001b[0m\u001b[0;34m.\u001b[0m\u001b[0mformat\u001b[0m\u001b[0;34m(\u001b[0m\u001b[0minput\u001b[0m\u001b[0;34m)\u001b[0m\u001b[0;34m\u001b[0m\u001b[0m\n\u001b[0;32m--> 151\u001b[0;31m                     \u001b[0;32mraise\u001b[0m \u001b[0mValueError\u001b[0m\u001b[0;34m(\u001b[0m\u001b[0merr\u001b[0m\u001b[0;34m)\u001b[0m\u001b[0;34m\u001b[0m\u001b[0m\n\u001b[0m\u001b[1;32m    152\u001b[0m \u001b[0;34m\u001b[0m\u001b[0m\n\u001b[1;32m    153\u001b[0m             \u001b[0;31m# Figure out the plotting orientation\u001b[0m\u001b[0;34m\u001b[0m\u001b[0;34m\u001b[0m\u001b[0m\n",
      "\u001b[0;31mValueError\u001b[0m: Could not interpret input 'common_unigram_ratio'"
     ]
    },
    {
     "data": {
      "text/plain": [
       "<matplotlib.figure.Figure at 0x1afeefc10>"
      ]
     },
     "metadata": {},
     "output_type": "display_data"
    }
   ],
   "source": [
    "# picture to show common_unigram_ratio between two classes\n",
    "plt.figure(figsize=(8,6))\n",
    "sns.violinplot(x='is_duplicate', y='common_unigram_ratio', data=df)\n",
    "plt.title('Common_Unigram_Ratio Difference Between Two Classes', fontsize=20)\n",
    "plt.savefig('image/common_unigram_ratio_violinplot')"
   ]
  },
  {
   "cell_type": "markdown",
   "metadata": {},
   "source": [
    "## Get common_bigram_ratio Feature"
   ]
  },
  {
   "cell_type": "code",
   "execution_count": 36,
   "metadata": {
    "collapsed": false
   },
   "outputs": [],
   "source": [
    "# get bigrams of question1 and question2\n",
    "def get_bigrams(df):\n",
    "    df['question1_bigram'] = df['question1_unigram'].apply(lambda x: [i for i in ngrams(x, 2)])\n",
    "    df['question2_bigram'] = df['question2_unigram'].apply(lambda x: [i for i in ngrams(x, 2)])                                             "
   ]
  },
  {
   "cell_type": "code",
   "execution_count": 37,
   "metadata": {
    "collapsed": true
   },
   "outputs": [],
   "source": [
    "# get common_bigram_ratio \n",
    "def get_common_bigram_ratio(df):\n",
    "    df['common_bigram_count'] = df.apply(lambda x: len(set(x['question1_bigram']).\\\n",
    "                                         intersection(set(x['question2_bigram']))), axis=1)\n",
    "\n",
    "    df['bigram_count'] = df.apply(lambda x: max(len(set(x['question1_bigram']).\\\n",
    "                                union(set(x['question2_bigram']))), 1), axis=1)\n",
    "\n",
    "    df['common_bigram_ratio'] = df['common_bigram_count'] / df['bigram_count']   "
   ]
  },
  {
   "cell_type": "code",
   "execution_count": 39,
   "metadata": {
    "collapsed": false
   },
   "outputs": [
    {
     "data": {
      "image/png": "[encoded data removed]",
      "text/plain": [
       "<matplotlib.figure.Figure at 0x111013b10>"
      ]
     },
     "metadata": {},
     "output_type": "display_data"
    }
   ],
   "source": [
    "# Plot to show common_bigram_ratio difference between two classes.\n",
    "plt.figure(figsize=(8,6))\n",
    "sns.violinplot(x='is_duplicate', y='common_bigram_ratio', data=df)\n",
    "plt.savefig('image/common_bigram_ratio_violinplot')"
   ]
  },
  {
   "cell_type": "markdown",
   "metadata": {},
   "source": [
    "## Get common_trigram_ratio Feature"
   ]
  },
  {
   "cell_type": "code",
   "execution_count": 40,
   "metadata": {
    "collapsed": true
   },
   "outputs": [],
   "source": [
    "# get trigrams of question1 and question2\n",
    "def get_trigrams(df):\n",
    "    df['question1_trigram'] = df['question1_unigram'].apply(lambda x: [i for i in ngrams(x, 3)])\n",
    "    df['question2_trigram'] = df['question2_unigram'].apply(lambda x: [i for i in ngrams(x, 3)])"
   ]
  },
  {
   "cell_type": "code",
   "execution_count": 41,
   "metadata": {
    "collapsed": true
   },
   "outputs": [],
   "source": [
    "# get common_trigram_ratio \n",
    "df_train['common_trigram_count'] = df_train.apply(lambda x: len(set(x['question1_trigram']).intersection\\\n",
    "                                                                (set(x['question2_trigram']))), axis=1)\n",
    "\n",
    "df_train['trigram_count'] = df_train.apply(lambda x: max(len(set(x['question1_trigram']).union\\\n",
    "                                                             (set(x['question2_trigram']))), 1), axis=1)\n",
    "\n",
    "df_train['common_trigram_ratio'] = df_train['common_trigram_count'] / df_train['trigram_count'] "
   ]
  },
  {
   "cell_type": "code",
   "execution_count": 42,
   "metadata": {
    "collapsed": false
   },
   "outputs": [
    {
     "data": {
      "image/png": "[encoded data removed]",
      "text/plain": [
       "<matplotlib.figure.Figure at 0x13ac63250>"
      ]
     },
     "metadata": {},
     "output_type": "display_data"
    }
   ],
   "source": [
    "# picture to show common_trigram_count between two classes\n",
    "plt.figure(figsize=(8,6))\n",
    "sns.violinplot(x='is_duplicate', y='common_trigram_count', data=df_train)\n",
    "plt.show()"
   ]
  },
  {
   "cell_type": "code",
   "execution_count": 43,
   "metadata": {
    "collapsed": false
   },
   "outputs": [
    {
     "data": {
      "image/png": "[encoded data removed]",
      "text/plain": [
       "<matplotlib.figure.Figure at 0x1113f9290>"
      ]
     },
     "metadata": {},
     "output_type": "display_data"
    }
   ],
   "source": [
    "# # picture to show common_trigram_ratio between two classes\n",
    "plt.figure(figsize=(8,6))\n",
    "sns.violinplot(x='is_duplicate', y='common_trigram_ratio', data=df_train)\n",
    "plt.savefig('image/common_trigram_ratio_violinplot')"
   ]
  },
  {
   "cell_type": "markdown",
   "metadata": {},
   "source": [
    "## Get cosine_similarity Feature"
   ]
  },
  {
   "cell_type": "code",
   "execution_count": 44,
   "metadata": {
    "collapsed": false
   },
   "outputs": [],
   "source": [
    "# get tf_idf matrix for question1 and question2\n",
    "tfidf_vectorizer = TfidfVectorizer(stop_words=stopwords_list)\n",
    "tfidf_matrix = tfidf_vectorizer.fit(df_train.question1.values + df_train.question1.values)\n",
    "tfidf_matrix_transform1 = tfidf_vectorizer.transform(df_train.question1.values)\n",
    "tfidf_matrix_transform2 = tfidf_vectorizer.transform(df_train.question2.values)"
   ]
  },
  {
   "cell_type": "code",
   "execution_count": 45,
   "metadata": {
    "collapsed": false
   },
   "outputs": [],
   "source": [
    "# get cosine_similarity for each paired questions\n",
    "cos = []\n",
    "for i in range(len(df_train)):\n",
    "    cos.append(cosine_similarity(tfidf_matrix_transform1[i].toarray(), tfidf_matrix_transform2[i].toarray()))\n",
    "\n",
    "df_train['cosine_similarity'] = cos\n",
    "df_train['cosine_similarity'] = df_train.cosine_similarity.apply(lambda x: x[0][0])"
   ]
  },
  {
   "cell_type": "code",
   "execution_count": 46,
   "metadata": {
    "collapsed": false
   },
   "outputs": [
    {
     "data": {
      "image/png": "[encoded data removed]",
      "text/plain": [
       "<matplotlib.figure.Figure at 0x13ac63090>"
      ]
     },
     "metadata": {},
     "output_type": "display_data"
    }
   ],
   "source": [
    "# picture to show cosine_similarity difference between two classes\n",
    "plt.figure(figsize=(8,6))\n",
    "sns.violinplot(x='is_duplicate', y='cosine_similarity', data=df_train)\n",
    "plt.savefig('cosine_similarity_violinplot')"
   ]
  },
  {
   "cell_type": "markdown",
   "metadata": {},
   "source": [
    "# Models"
   ]
  },
  {
   "cell_type": "code",
   "execution_count": 48,
   "metadata": {
    "collapsed": false
   },
   "outputs": [],
   "source": [
    "feature_cols = ['common_unigram_ratio', 'common_bigram_ratio','common_trigram_ratio', 'cosine_similarity']\n",
    "df_train_x_train = df_train[feature_cols]\n",
    "df_train_y_train = df_train.is_duplicate"
   ]
  },
  {
   "cell_type": "code",
   "execution_count": 263,
   "metadata": {
    "collapsed": false
   },
   "outputs": [
    {
     "data": {
      "text/plain": [
       "RandomForestClassifier(bootstrap=True, class_weight=None, criterion='gini',\n",
       "            max_depth=None, max_features='auto', max_leaf_nodes=None,\n",
       "            min_impurity_split=1e-07, min_samples_leaf=1,\n",
       "            min_samples_split=2, min_weight_fraction_leaf=0.0,\n",
       "            n_estimators=10, n_jobs=1, oob_score=False, random_state=None,\n",
       "            verbose=0, warm_start=False)"
      ]
     },
     "execution_count": 263,
     "metadata": {},
     "output_type": "execute_result"
    }
   ],
   "source": [
    "rm = RandomForestClassifier(n_estimators = 1000)\n",
    "rm.fit(df_train_x_train, df_train_y_train)\n",
    "rm_score = np.mean(cross_val_score(rm, X, y, cv=5, scoring='accuracy'))"
   ]
  },
  {
   "cell_type": "code",
   "execution_count": 49,
   "metadata": {
    "collapsed": false
   },
   "outputs": [
    {
     "ename": "KeyboardInterrupt",
     "evalue": "",
     "output_type": "error",
     "traceback": [
      "\u001b[0;31m---------------------------------------------------------------------------\u001b[0m",
      "\u001b[0;31mKeyboardInterrupt\u001b[0m                         Traceback (most recent call last)",
      "\u001b[0;32m<ipython-input-49-f31a317d381a>\u001b[0m in \u001b[0;36m<module>\u001b[0;34m()\u001b[0m\n\u001b[1;32m      7\u001b[0m                                  \u001b[0mcv\u001b[0m \u001b[0;34m=\u001b[0m \u001b[0;36m5\u001b[0m\u001b[0;34m,\u001b[0m\u001b[0;34m\u001b[0m\u001b[0m\n\u001b[1;32m      8\u001b[0m                                  scoring='accuracy')\n\u001b[0;32m----> 9\u001b[0;31m \u001b[0mrfc_gridsearch\u001b[0m\u001b[0;34m.\u001b[0m\u001b[0mfit\u001b[0m\u001b[0;34m(\u001b[0m\u001b[0mdf_train_x_train\u001b[0m\u001b[0;34m,\u001b[0m \u001b[0mdf_train_y_train\u001b[0m\u001b[0;34m)\u001b[0m\u001b[0;34m\u001b[0m\u001b[0m\n\u001b[0m",
      "\u001b[0;32m/Users/lihuama/anaconda2/lib/python2.7/site-packages/sklearn/model_selection/_search.pyc\u001b[0m in \u001b[0;36mfit\u001b[0;34m(self, X, y, groups)\u001b[0m\n\u001b[1;32m    943\u001b[0m             \u001b[0mtrain\u001b[0m\u001b[0;34m/\u001b[0m\u001b[0mtest\u001b[0m \u001b[0mset\u001b[0m\u001b[0;34m.\u001b[0m\u001b[0;34m\u001b[0m\u001b[0m\n\u001b[1;32m    944\u001b[0m         \"\"\"\n\u001b[0;32m--> 945\u001b[0;31m         \u001b[0;32mreturn\u001b[0m \u001b[0mself\u001b[0m\u001b[0;34m.\u001b[0m\u001b[0m_fit\u001b[0m\u001b[0;34m(\u001b[0m\u001b[0mX\u001b[0m\u001b[0;34m,\u001b[0m \u001b[0my\u001b[0m\u001b[0;34m,\u001b[0m \u001b[0mgroups\u001b[0m\u001b[0;34m,\u001b[0m \u001b[0mParameterGrid\u001b[0m\u001b[0;34m(\u001b[0m\u001b[0mself\u001b[0m\u001b[0;34m.\u001b[0m\u001b[0mparam_grid\u001b[0m\u001b[0;34m)\u001b[0m\u001b[0;34m)\u001b[0m\u001b[0;34m\u001b[0m\u001b[0m\n\u001b[0m\u001b[1;32m    946\u001b[0m \u001b[0;34m\u001b[0m\u001b[0m\n\u001b[1;32m    947\u001b[0m \u001b[0;34m\u001b[0m\u001b[0m\n",
      "\u001b[0;32m/Users/lihuama/anaconda2/lib/python2.7/site-packages/sklearn/model_selection/_search.pyc\u001b[0m in \u001b[0;36m_fit\u001b[0;34m(self, X, y, groups, parameter_iterable)\u001b[0m\n\u001b[1;32m    562\u001b[0m                                   \u001b[0mreturn_times\u001b[0m\u001b[0;34m=\u001b[0m\u001b[0mTrue\u001b[0m\u001b[0;34m,\u001b[0m \u001b[0mreturn_parameters\u001b[0m\u001b[0;34m=\u001b[0m\u001b[0mTrue\u001b[0m\u001b[0;34m,\u001b[0m\u001b[0;34m\u001b[0m\u001b[0m\n\u001b[1;32m    563\u001b[0m                                   error_score=self.error_score)\n\u001b[0;32m--> 564\u001b[0;31m           \u001b[0;32mfor\u001b[0m \u001b[0mparameters\u001b[0m \u001b[0;32min\u001b[0m \u001b[0mparameter_iterable\u001b[0m\u001b[0;34m\u001b[0m\u001b[0m\n\u001b[0m\u001b[1;32m    565\u001b[0m           for train, test in cv_iter)\n\u001b[1;32m    566\u001b[0m \u001b[0;34m\u001b[0m\u001b[0m\n",
      "\u001b[0;32m/Users/lihuama/anaconda2/lib/python2.7/site-packages/sklearn/externals/joblib/parallel.pyc\u001b[0m in \u001b[0;36m__call__\u001b[0;34m(self, iterable)\u001b[0m\n\u001b[1;32m    766\u001b[0m                 \u001b[0;31m# consumption.\u001b[0m\u001b[0;34m\u001b[0m\u001b[0;34m\u001b[0m\u001b[0m\n\u001b[1;32m    767\u001b[0m                 \u001b[0mself\u001b[0m\u001b[0;34m.\u001b[0m\u001b[0m_iterating\u001b[0m \u001b[0;34m=\u001b[0m \u001b[0mFalse\u001b[0m\u001b[0;34m\u001b[0m\u001b[0m\n\u001b[0;32m--> 768\u001b[0;31m             \u001b[0mself\u001b[0m\u001b[0;34m.\u001b[0m\u001b[0mretrieve\u001b[0m\u001b[0;34m(\u001b[0m\u001b[0;34m)\u001b[0m\u001b[0;34m\u001b[0m\u001b[0m\n\u001b[0m\u001b[1;32m    769\u001b[0m             \u001b[0;31m# Make sure that we get a last message telling us we are done\u001b[0m\u001b[0;34m\u001b[0m\u001b[0;34m\u001b[0m\u001b[0m\n\u001b[1;32m    770\u001b[0m             \u001b[0melapsed_time\u001b[0m \u001b[0;34m=\u001b[0m \u001b[0mtime\u001b[0m\u001b[0;34m.\u001b[0m\u001b[0mtime\u001b[0m\u001b[0;34m(\u001b[0m\u001b[0;34m)\u001b[0m \u001b[0;34m-\u001b[0m \u001b[0mself\u001b[0m\u001b[0;34m.\u001b[0m\u001b[0m_start_time\u001b[0m\u001b[0;34m\u001b[0m\u001b[0m\n",
      "\u001b[0;32m/Users/lihuama/anaconda2/lib/python2.7/site-packages/sklearn/externals/joblib/parallel.pyc\u001b[0m in \u001b[0;36mretrieve\u001b[0;34m(self)\u001b[0m\n\u001b[1;32m    717\u001b[0m                     \u001b[0mensure_ready\u001b[0m \u001b[0;34m=\u001b[0m \u001b[0mself\u001b[0m\u001b[0;34m.\u001b[0m\u001b[0m_managed_backend\u001b[0m\u001b[0;34m\u001b[0m\u001b[0m\n\u001b[1;32m    718\u001b[0m                     \u001b[0mbackend\u001b[0m\u001b[0;34m.\u001b[0m\u001b[0mabort_everything\u001b[0m\u001b[0;34m(\u001b[0m\u001b[0mensure_ready\u001b[0m\u001b[0;34m=\u001b[0m\u001b[0mensure_ready\u001b[0m\u001b[0;34m)\u001b[0m\u001b[0;34m\u001b[0m\u001b[0m\n\u001b[0;32m--> 719\u001b[0;31m                 \u001b[0;32mraise\u001b[0m \u001b[0mexception\u001b[0m\u001b[0;34m\u001b[0m\u001b[0m\n\u001b[0m\u001b[1;32m    720\u001b[0m \u001b[0;34m\u001b[0m\u001b[0m\n\u001b[1;32m    721\u001b[0m     \u001b[0;32mdef\u001b[0m \u001b[0m__call__\u001b[0m\u001b[0;34m(\u001b[0m\u001b[0mself\u001b[0m\u001b[0;34m,\u001b[0m \u001b[0miterable\u001b[0m\u001b[0;34m)\u001b[0m\u001b[0;34m:\u001b[0m\u001b[0;34m\u001b[0m\u001b[0m\n",
      "\u001b[0;31mKeyboardInterrupt\u001b[0m: "
     ]
    }
   ],
   "source": [
    "rfc_grid = { 'max_depth': [3, 5, 10],\n",
    "            'n_estimators': [500, 1000],\n",
    "            'max_features': ['sqrt', 'log2']}\n",
    "rfc_gridsearch = GridSearchCV(RandomForestClassifier(),\n",
    "                                 rfc_grid,\n",
    "                                 n_jobs=-1,\n",
    "                                 cv = 5,\n",
    "                                 scoring='accuracy')\n",
    "rfc_gridsearch.fit(df_train_x_train, df_train_y_train)"
   ]
  },
  {
   "cell_type": "markdown",
   "metadata": {},
   "source": [
    "## Test on Test Dataset"
   ]
  },
  {
   "cell_type": "code",
   "execution_count": 45,
   "metadata": {
    "collapsed": true
   },
   "outputs": [],
   "source": [
    "df_test['question1_unigram'] = df_test['question1'].apply(lambda x: get_unigram(x.decode(encoding='utf-8')))\n",
    "df_test['question2_unigram'] = df_test['question2'].apply(lambda x: get_unigram(x.decode(encoding='utf-8')))"
   ]
  },
  {
   "cell_type": "code",
   "execution_count": 37,
   "metadata": {
    "collapsed": true
   },
   "outputs": [],
   "source": [
    "df_test['question1_unigram_length'] = df_test.question1_unigram.apply(len)\n",
    "df_test['question2_unigram_length'] = df_test.question2_unigram.apply(len)\n",
    "df_test['unigram_length_difference'] =df_test.question1_unigram_length - df_test.question2_unigram_length"
   ]
  },
  {
   "cell_type": "code",
   "execution_count": 39,
   "metadata": {
    "collapsed": false
   },
   "outputs": [],
   "source": [
    "df_test['common_unigram_count'] = df_test.apply(lambda x: len(set(x['question1_unigram']).intersection\\\n",
    "                                                              (set(x['question2_unigram']))), axis=1)\n",
    "\n",
    "df_test['unigram_count'] = df_test.apply(lambda x: max(len(set(x['question1_unigram']).union\\\n",
    "                                                           (set(x['question2_unigram']))), 1), axis=1)\n",
    "\n",
    "df_test['common_unigram_ratio'] = df_test['common_unigram_count'] / df_test['unigram_count']"
   ]
  },
  {
   "cell_type": "code",
   "execution_count": null,
   "metadata": {
    "collapsed": true
   },
   "outputs": [],
   "source": [
    "df_test['question1_bigram'] = df_test['question1_unigram'].apply(lambda x: [i for i in ngrams(x, 2)])\n",
    "df_test['question2_bigram'] = df_test['question2_unigram'].apply(lambda x: [i for i in ngrams(x, 2)])"
   ]
  },
  {
   "cell_type": "code",
   "execution_count": 40,
   "metadata": {
    "collapsed": true
   },
   "outputs": [],
   "source": [
    "df_test['common_bigram_count'] = df_test.apply(lambda x: len(set(x['question1_bigram']).intersection\\\n",
    "                                                             (set(x['question2_bigram']))), axis=1)\n",
    "\n",
    "df_test['bigram_count'] = df_test.apply(lambda x: max(len(set(x['question1_bigram']).union\\\n",
    "                                                          (set(x['question2_bigram']))), 1), axis=1)\n",
    "\n",
    "df_test['common_bigram_ratio'] = df_test['common_bigram_count'] / df_test['bigram_count']  "
   ]
  },
  {
   "cell_type": "code",
   "execution_count": 41,
   "metadata": {
    "collapsed": true
   },
   "outputs": [],
   "source": [
    "df_test['question1_trigram'] = df_test['question1_unigram'].apply(lambda x: [i for i in ngrams(x, 3)])\n",
    "df_test['question2_trigram'] = df_test['question2_unigram'].apply(lambda x: [i for i in ngrams(x, 3)])                                                  "
   ]
  },
  {
   "cell_type": "code",
   "execution_count": null,
   "metadata": {
    "collapsed": true
   },
   "outputs": [],
   "source": [
    "df_test['common_trigram_count'] = df_test.apply(lambda x: len(set(x['question1_trigram']).intersection\\\n",
    "                                                              (set(x['question2_trigram']))), axis=1)\n",
    "\n",
    "df_test['trigram_count'] = df_test.apply(lambda x: max(len(set(x['question1_trigram']).union\\\n",
    "                                                           (set(x['question2_trigram']))), 1), axis=1)\n",
    "\n",
    "df_test['common_trigram_ratio'] = df_test['common_trigram_count'] / df_test['trigram_count'] "
   ]
  },
  {
   "cell_type": "code",
   "execution_count": 49,
   "metadata": {
    "collapsed": true
   },
   "outputs": [],
   "source": [
    "tfidf_matrix_transform1_test = tfidf_vectorizer.transform(df_test.question1.values)\n",
    "tfidf_matrix_transform2_test = tfidf_vectorizer.transform(df_test.question2.values)"
   ]
  },
  {
   "cell_type": "code",
   "execution_count": 51,
   "metadata": {
    "collapsed": false
   },
   "outputs": [],
   "source": [
    "cos_test = []\n",
    "for i in range(len(df_test)):\n",
    "    cos_test.append(cosine_similarity(tfidf_matrix_transform1_test[i].toarray(),\\\n",
    "                                      tfidf_matrix_transform2_test[i].toarray()))\n",
    "\n",
    "df_test['cosine_similarity'] = cos_test\n",
    "df_test['cosine_similarity'] = df_test.cosine_similarity.apply(lambda x: x[0][0])"
   ]
  },
  {
   "cell_type": "code",
   "execution_count": 55,
   "metadata": {
    "collapsed": true
   },
   "outputs": [],
   "source": [
    "feature_cols = ['common_unigram_ratio', 'common_bigram_ratio','cosine_similarity']\n",
    "df_test_x_test= df_test[feature_cols]\n",
    "df_test_y_test = df_test.is_duplicate"
   ]
  },
  {
   "cell_type": "code",
   "execution_count": 270,
   "metadata": {
    "collapsed": false
   },
   "outputs": [
    {
     "data": {
      "text/plain": [
       "0.58004243378276643"
      ]
     },
     "execution_count": 270,
     "metadata": {},
     "output_type": "execute_result"
    }
   ],
   "source": [
    "metrics.precision_score(df_test_y_test, rm.predict(df_test_x_test))"
   ]
  },
  {
   "cell_type": "code",
   "execution_count": 265,
   "metadata": {
    "collapsed": false
   },
   "outputs": [
    {
     "data": {
      "text/plain": [
       "0.68816938336342726"
      ]
     },
     "execution_count": 265,
     "metadata": {},
     "output_type": "execute_result"
    }
   ],
   "source": [
    "rm.score(df_test_x_test, df_test_y_test)"
   ]
  },
  {
   "cell_type": "code",
   "execution_count": null,
   "metadata": {
    "collapsed": true
   },
   "outputs": [],
   "source": [
    "metrics.precision_score(df_test_y_test, fores.predict(testDataVecs))"
   ]
  },
  {
   "cell_type": "code",
   "execution_count": 271,
   "metadata": {
    "collapsed": false
   },
   "outputs": [],
   "source": [
    "df_test_x_test_pred_prob = rm.predict_proba(df_test_x_test)[:,1]"
   ]
  },
  {
   "cell_type": "code",
   "execution_count": 272,
   "metadata": {
    "collapsed": false
   },
   "outputs": [
    {
     "data": {
      "text/plain": [
       "0.72433051756667632"
      ]
     },
     "execution_count": 272,
     "metadata": {},
     "output_type": "execute_result"
    }
   ],
   "source": [
    "roc_auc_score(df_test_y_test, df_test_x_test_pred_prob)"
   ]
  },
  {
   "cell_type": "code",
   "execution_count": 267,
   "metadata": {
    "collapsed": false
   },
   "outputs": [
    {
     "name": "stdout",
     "output_type": "stream",
     "text": [
      "Fitting 3 folds for each of 1 candidates, totalling 3 fits\n"
     ]
    },
    {
     "name": "stderr",
     "output_type": "stream",
     "text": [
      "[Parallel(n_jobs=-1)]: Done   3 out of   3 | elapsed:  3.6min finished\n"
     ]
    },
    {
     "data": {
      "text/plain": [
       "GridSearchCV(cv=None, error_score='raise',\n",
       "       estimator=GradientBoostingClassifier(criterion='friedman_mse', init=None,\n",
       "              learning_rate=0.1, loss='deviance', max_depth=3,\n",
       "              max_features=None, max_leaf_nodes=None,\n",
       "              min_impurity_split=1e-07, min_samples_leaf=1,\n",
       "              min_samples_split=2, min_weight_fraction_leaf=0.0,\n",
       "              n_estimators=100, presort='auto', random_state=None,\n",
       "              subsample=1.0, verbose=0, warm_start=False),\n",
       "       fit_params={}, iid=True, n_jobs=-1,\n",
       "       param_grid={'n_estimators': [1000], 'max_features': ['sqrt'], 'learning_rate': [1]},\n",
       "       pre_dispatch='2*n_jobs', refit=True, return_train_score=True,\n",
       "       scoring=None, verbose=True)"
      ]
     },
     "execution_count": 267,
     "metadata": {},
     "output_type": "execute_result"
    }
   ],
   "source": [
    "gbr_grid = {'learning_rate': [1],\n",
    "            'n_estimators': [1000],\n",
    "            'max_features': ['sqrt']}\n",
    "gbr_gridsearch = GridSearchCV(GradientBoostingClassifier(),\n",
    "                                 gbr_grid,\n",
    "                                 n_jobs=-1,\n",
    "                                 verbose=True,)\n",
    "gbr_gridsearch.fit(df_train_x_train, df_train_y_train)"
   ]
  },
  {
   "cell_type": "code",
   "execution_count": 268,
   "metadata": {
    "collapsed": false
   },
   "outputs": [
    {
     "data": {
      "text/plain": [
       "0.71489230718492602"
      ]
     },
     "execution_count": 268,
     "metadata": {},
     "output_type": "execute_result"
    }
   ],
   "source": [
    "gbr_gridsearch.best_score_"
   ]
  },
  {
   "cell_type": "code",
   "execution_count": 269,
   "metadata": {
    "collapsed": false
   },
   "outputs": [
    {
     "data": {
      "text/plain": [
       "0.62296866110959959"
      ]
     },
     "execution_count": 269,
     "metadata": {},
     "output_type": "execute_result"
    }
   ],
   "source": [
    "gbr_gridsearch.score(df_test_x_test, df_test_y_test)"
   ]
  },
  {
   "cell_type": "code",
   "execution_count": null,
   "metadata": {
    "collapsed": true
   },
   "outputs": [],
   "source": [
    "gbr_gridsearch.predict_proba(X)"
   ]
  },
  {
   "cell_type": "code",
   "execution_count": 28,
   "metadata": {
    "collapsed": false
   },
   "outputs": [
    {
     "data": {
      "text/plain": [
       "0.68409895915782803"
      ]
     },
     "execution_count": 28,
     "metadata": {},
     "output_type": "execute_result"
    }
   ],
   "source": [
    "rfc_gridsearch.best_score_"
   ]
  },
  {
   "cell_type": "code",
   "execution_count": 30,
   "metadata": {
    "collapsed": false
   },
   "outputs": [
    {
     "data": {
      "text/plain": [
       "{'max_depth': 3, 'max_features': 'sqrt', 'n_estimators': 1000}"
      ]
     },
     "execution_count": 30,
     "metadata": {},
     "output_type": "execute_result"
    }
   ],
   "source": [
    "rfc_gridsearch.best_params_"
   ]
  },
  {
   "cell_type": "code",
   "execution_count": 40,
   "metadata": {
    "collapsed": false
   },
   "outputs": [
    {
     "name": "stdout",
     "output_type": "stream",
     "text": [
      "Fitting 3 folds for each of 32 candidates, totalling 96 fits\n"
     ]
    },
    {
     "name": "stderr",
     "output_type": "stream",
     "text": [
      "[Parallel(n_jobs=-1)]: Done  42 tasks      | elapsed: 17.6min\n",
      "[Parallel(n_jobs=-1)]: Done  96 out of  96 | elapsed: 43.2min finished\n"
     ]
    },
    {
     "data": {
      "text/plain": [
       "GridSearchCV(cv=None, error_score='raise',\n",
       "       estimator=GradientBoostingClassifier(criterion='friedman_mse', init=None,\n",
       "              learning_rate=0.1, loss='deviance', max_depth=3,\n",
       "              max_features=None, max_leaf_nodes=None,\n",
       "              min_impurity_split=1e-07, min_samples_leaf=1,\n",
       "              min_samples_split=2, min_weight_fraction_leaf=0.0,\n",
       "              n_estimators=100, presort='auto', random_state=None,\n",
       "              subsample=1.0, verbose=0, warm_start=False),\n",
       "       fit_params={}, iid=True, n_jobs=-1,\n",
       "       param_grid={'n_estimators': [50, 100, 500, 1000], 'max_features': ['sqrt', 'log2'], 'learning_rate': [0.01, 0.1, 1, 5]},\n",
       "       pre_dispatch='2*n_jobs', refit=True, return_train_score=True,\n",
       "       scoring=None, verbose=True)"
      ]
     },
     "execution_count": 40,
     "metadata": {},
     "output_type": "execute_result"
    }
   ],
   "source": [
    "gbr_grid = {'learning_rate': [0.01, 0.1, 1, 5],\n",
    "            'n_estimators': [50, 100, 500, 1000],\n",
    "            'max_features': ['sqrt', 'log2']}\n",
    "gbr_gridsearch = GridSearchCV(GradientBoostingClassifier(),\n",
    "                                 gbr_grid,\n",
    "                                 n_jobs=-1,\n",
    "                                 verbose=True,)\n",
    "gbr_gridsearch.fit(X, y)"
   ]
  },
  {
   "cell_type": "code",
   "execution_count": 41,
   "metadata": {
    "collapsed": false
   },
   "outputs": [
    {
     "data": {
      "text/plain": [
       "0.70513841617856576"
      ]
     },
     "execution_count": 41,
     "metadata": {},
     "output_type": "execute_result"
    }
   ],
   "source": [
    "gbr_gridsearch.best_score_"
   ]
  },
  {
   "cell_type": "code",
   "execution_count": 262,
   "metadata": {
    "collapsed": false
   },
   "outputs": [
    {
     "data": {
      "text/plain": [
       "{'learning_rate': 1, 'max_features': 'sqrt', 'n_estimators': 1000}"
      ]
     },
     "execution_count": 262,
     "metadata": {},
     "output_type": "execute_result"
    }
   ],
   "source": [
    "gbr_gridsearch.best_params_"
   ]
  },
  {
   "cell_type": "code",
   "execution_count": 263,
   "metadata": {
    "collapsed": false
   },
   "outputs": [
    {
     "name": "stdout",
     "output_type": "stream",
     "text": [
      "Fitting 3 folds for each of 6 candidates, totalling 18 fits\n"
     ]
    },
    {
     "name": "stderr",
     "output_type": "stream",
     "text": [
      "[Parallel(n_jobs=-1)]: Done  18 out of  18 | elapsed: 22.4min finished\n"
     ]
    },
    {
     "data": {
      "text/plain": [
       "GridSearchCV(cv=None, error_score='raise',\n",
       "       estimator=GradientBoostingClassifier(criterion='friedman_mse', init=None,\n",
       "              learning_rate=0.1, loss='deviance', max_depth=3,\n",
       "              max_features=None, max_leaf_nodes=None,\n",
       "              min_impurity_split=1e-07, min_samples_leaf=1,\n",
       "              min_samples_split=2, min_weight_fraction_leaf=0.0,\n",
       "              n_estimators=100, presort='auto', random_state=None,\n",
       "              subsample=1.0, verbose=0, warm_start=False),\n",
       "       fit_params={}, iid=True, n_jobs=-1,\n",
       "       param_grid={'n_estimators': [500, 1000], 'max_features': ['sqrt'], 'learning_rate': [0.01, 0.1, 1]},\n",
       "       pre_dispatch='2*n_jobs', refit=True, return_train_score=True,\n",
       "       scoring=None, verbose=True)"
      ]
     },
     "execution_count": 263,
     "metadata": {},
     "output_type": "execute_result"
    }
   ],
   "source": [
    "gbr_grid = {'learning_rate': [0.01, 0.1, 1],\n",
    "            'n_estimators': [500, 1000],\n",
    "            'max_features': ['sqrt']}\n",
    "gbr_gridsearch = GridSearchCV(GradientBoostingClassifier(),\n",
    "                                 gbr_grid,\n",
    "                                 n_jobs=-1,\n",
    "                                 verbose=True,)\n",
    "gbr_gridsearch.fit(X, y)"
   ]
  },
  {
   "cell_type": "code",
   "execution_count": 264,
   "metadata": {
    "collapsed": false
   },
   "outputs": [
    {
     "data": {
      "text/plain": [
       "0.71260091815735316"
      ]
     },
     "execution_count": 264,
     "metadata": {},
     "output_type": "execute_result"
    }
   ],
   "source": [
    "gbr_gridsearch.best_score_"
   ]
  },
  {
   "cell_type": "markdown",
   "metadata": {},
   "source": [
    "# Method 2:    Word2Vec"
   ]
  },
  {
   "cell_type": "code",
   "execution_count": 79,
   "metadata": {
    "collapsed": true
   },
   "outputs": [],
   "source": [
    "logging.basicConfig(format='%(asctime)s : %(levelname)s : %(message)s', level=logging.INFO)"
   ]
  },
  {
   "cell_type": "code",
   "execution_count": 78,
   "metadata": {
    "collapsed": false
   },
   "outputs": [],
   "source": [
    "df['question1_unigram'] = df['question1'].apply(lambda x: get_unigram(x.decode(encoding='utf-8')))\n",
    "df['question2_unigram'] = df['question2'].apply(lambda x: get_unigram(x.decode(encoding='utf-8')))"
   ]
  },
  {
   "cell_type": "code",
   "execution_count": 133,
   "metadata": {
    "collapsed": false
   },
   "outputs": [],
   "source": [
    "sentences = df.question1_unigram.tolist() + df.question2_unigram.values.tolist()"
   ]
  },
  {
   "cell_type": "code",
   "execution_count": 161,
   "metadata": {
    "collapsed": true
   },
   "outputs": [],
   "source": [
    "num_features = 300    # Word vector dimensionality                      \n",
    "min_word_count = 1   # Minimum word count                        \n",
    "num_workers = 4       # Number of threads to run in parallel\n",
    "context = 10          # Context window size                                                                                    \n",
    "downsampling = 1e-3   # Downsample setting for frequent words\n"
   ]
  },
  {
   "cell_type": "code",
   "execution_count": 162,
   "metadata": {
    "collapsed": false
   },
   "outputs": [
    {
     "name": "stderr",
     "output_type": "stream",
     "text": [
      "2017-04-02 21:24:36,614 : INFO : collecting all words and their counts\n",
      "2017-04-02 21:24:36,616 : INFO : PROGRESS: at sentence #0, processed 0 words, keeping 0 word types\n",
      "2017-04-02 21:24:36,658 : INFO : PROGRESS: at sentence #10000, processed 65203 words, keeping 12312 word types\n",
      "2017-04-02 21:24:36,716 : INFO : PROGRESS: at sentence #20000, processed 130681 words, keeping 18026 word types\n",
      "2017-04-02 21:24:36,768 : INFO : PROGRESS: at sentence #30000, processed 195834 words, keeping 22388 word types\n",
      "2017-04-02 21:24:36,842 : INFO : PROGRESS: at sentence #40000, processed 260547 words, keeping 26042 word types\n",
      "2017-04-02 21:24:36,915 : INFO : PROGRESS: at sentence #50000, processed 325945 words, keeping 29421 word types\n",
      "2017-04-02 21:24:37,035 : INFO : PROGRESS: at sentence #60000, processed 391175 words, keeping 32425 word types\n",
      "2017-04-02 21:24:37,102 : INFO : PROGRESS: at sentence #70000, processed 456292 words, keeping 35091 word types\n",
      "2017-04-02 21:24:37,185 : INFO : PROGRESS: at sentence #80000, processed 521579 words, keeping 37427 word types\n",
      "2017-04-02 21:24:37,256 : INFO : PROGRESS: at sentence #90000, processed 586725 words, keeping 39701 word types\n",
      "2017-04-02 21:24:37,357 : INFO : PROGRESS: at sentence #100000, processed 651913 words, keeping 41899 word types\n",
      "2017-04-02 21:24:37,433 : INFO : PROGRESS: at sentence #110000, processed 716512 words, keeping 43965 word types\n",
      "2017-04-02 21:24:37,539 : INFO : PROGRESS: at sentence #120000, processed 781613 words, keeping 45925 word types\n",
      "2017-04-02 21:24:37,624 : INFO : PROGRESS: at sentence #130000, processed 846874 words, keeping 47895 word types\n",
      "2017-04-02 21:24:37,715 : INFO : PROGRESS: at sentence #140000, processed 912198 words, keeping 49661 word types\n",
      "2017-04-02 21:24:37,782 : INFO : PROGRESS: at sentence #150000, processed 977746 words, keeping 51495 word types\n",
      "2017-04-02 21:24:37,859 : INFO : PROGRESS: at sentence #160000, processed 1043377 words, keeping 53269 word types\n",
      "2017-04-02 21:24:37,931 : INFO : PROGRESS: at sentence #170000, processed 1108733 words, keeping 54941 word types\n",
      "2017-04-02 21:24:38,001 : INFO : PROGRESS: at sentence #180000, processed 1174317 words, keeping 56615 word types\n",
      "2017-04-02 21:24:38,050 : INFO : PROGRESS: at sentence #190000, processed 1239694 words, keeping 58175 word types\n",
      "2017-04-02 21:24:38,124 : INFO : PROGRESS: at sentence #200000, processed 1304475 words, keeping 59722 word types\n",
      "2017-04-02 21:24:38,185 : INFO : PROGRESS: at sentence #210000, processed 1369204 words, keeping 61188 word types\n",
      "2017-04-02 21:24:38,261 : INFO : PROGRESS: at sentence #220000, processed 1434285 words, keeping 62551 word types\n",
      "2017-04-02 21:24:38,338 : INFO : PROGRESS: at sentence #230000, processed 1500046 words, keeping 63993 word types\n",
      "2017-04-02 21:24:38,408 : INFO : PROGRESS: at sentence #240000, processed 1565084 words, keeping 65324 word types\n",
      "2017-04-02 21:24:38,492 : INFO : PROGRESS: at sentence #250000, processed 1630988 words, keeping 66684 word types\n",
      "2017-04-02 21:24:38,551 : INFO : PROGRESS: at sentence #260000, processed 1696744 words, keeping 68058 word types\n",
      "2017-04-02 21:24:38,615 : INFO : PROGRESS: at sentence #270000, processed 1762460 words, keeping 69348 word types\n",
      "2017-04-02 21:24:38,682 : INFO : PROGRESS: at sentence #280000, processed 1827653 words, keeping 70623 word types\n",
      "2017-04-02 21:24:38,770 : INFO : PROGRESS: at sentence #290000, processed 1893035 words, keeping 71891 word types\n",
      "2017-04-02 21:24:38,890 : INFO : PROGRESS: at sentence #300000, processed 1957841 words, keeping 73154 word types\n",
      "2017-04-02 21:24:38,975 : INFO : PROGRESS: at sentence #310000, processed 2023110 words, keeping 74359 word types\n",
      "2017-04-02 21:24:39,060 : INFO : PROGRESS: at sentence #320000, processed 2088222 words, keeping 75544 word types\n",
      "2017-04-02 21:24:39,133 : INFO : PROGRESS: at sentence #330000, processed 2153753 words, keeping 76777 word types\n",
      "2017-04-02 21:24:39,207 : INFO : PROGRESS: at sentence #340000, processed 2218889 words, keeping 77878 word types\n",
      "2017-04-02 21:24:39,315 : INFO : PROGRESS: at sentence #350000, processed 2284273 words, keeping 78938 word types\n",
      "2017-04-02 21:24:39,430 : INFO : PROGRESS: at sentence #360000, processed 2349507 words, keeping 80016 word types\n",
      "2017-04-02 21:24:39,518 : INFO : PROGRESS: at sentence #370000, processed 2414837 words, keeping 81088 word types\n",
      "2017-04-02 21:24:39,626 : INFO : PROGRESS: at sentence #380000, processed 2480321 words, keeping 82194 word types\n",
      "2017-04-02 21:24:39,716 : INFO : PROGRESS: at sentence #390000, processed 2546530 words, keeping 83321 word types\n",
      "2017-04-02 21:24:39,810 : INFO : PROGRESS: at sentence #400000, processed 2612380 words, keeping 84343 word types\n",
      "2017-04-02 21:24:39,902 : INFO : PROGRESS: at sentence #410000, processed 2678255 words, keeping 85321 word types\n",
      "2017-04-02 21:24:39,982 : INFO : PROGRESS: at sentence #420000, processed 2743903 words, keeping 86234 word types\n",
      "2017-04-02 21:24:40,060 : INFO : PROGRESS: at sentence #430000, processed 2809898 words, keeping 87190 word types\n",
      "2017-04-02 21:24:40,178 : INFO : PROGRESS: at sentence #440000, processed 2875493 words, keeping 88033 word types\n",
      "2017-04-02 21:24:40,259 : INFO : PROGRESS: at sentence #450000, processed 2941613 words, keeping 88857 word types\n",
      "2017-04-02 21:24:40,358 : INFO : PROGRESS: at sentence #460000, processed 3007547 words, keeping 89686 word types\n",
      "2017-04-02 21:24:40,447 : INFO : PROGRESS: at sentence #470000, processed 3073394 words, keeping 90528 word types\n",
      "2017-04-02 21:24:40,546 : INFO : PROGRESS: at sentence #480000, processed 3139326 words, keeping 91368 word types\n",
      "2017-04-02 21:24:40,630 : INFO : PROGRESS: at sentence #490000, processed 3205349 words, keeping 92181 word types\n",
      "2017-04-02 21:24:40,716 : INFO : PROGRESS: at sentence #500000, processed 3271448 words, keeping 93019 word types\n",
      "2017-04-02 21:24:40,785 : INFO : PROGRESS: at sentence #510000, processed 3336422 words, keeping 93809 word types\n",
      "2017-04-02 21:24:40,935 : INFO : PROGRESS: at sentence #520000, processed 3402128 words, keeping 94598 word types\n",
      "2017-04-02 21:24:41,163 : INFO : PROGRESS: at sentence #530000, processed 3468432 words, keeping 95344 word types\n",
      "2017-04-02 21:24:41,231 : INFO : PROGRESS: at sentence #540000, processed 3534727 words, keeping 96168 word types\n",
      "2017-04-02 21:24:41,331 : INFO : PROGRESS: at sentence #550000, processed 3601141 words, keeping 96978 word types\n",
      "2017-04-02 21:24:41,419 : INFO : PROGRESS: at sentence #560000, processed 3667316 words, keeping 97752 word types\n",
      "2017-04-02 21:24:41,525 : INFO : PROGRESS: at sentence #570000, processed 3733649 words, keeping 98486 word types\n",
      "2017-04-02 21:24:41,622 : INFO : PROGRESS: at sentence #580000, processed 3799873 words, keeping 99219 word types\n",
      "2017-04-02 21:24:41,718 : INFO : PROGRESS: at sentence #590000, processed 3866325 words, keeping 99938 word types\n",
      "2017-04-02 21:24:41,820 : INFO : PROGRESS: at sentence #600000, processed 3931558 words, keeping 100627 word types\n",
      "2017-04-02 21:24:41,913 : INFO : PROGRESS: at sentence #610000, processed 3997680 words, keeping 101403 word types\n",
      "2017-04-02 21:24:42,009 : INFO : PROGRESS: at sentence #620000, processed 4063581 words, keeping 102140 word types\n",
      "2017-04-02 21:24:42,098 : INFO : PROGRESS: at sentence #630000, processed 4129419 words, keeping 102920 word types\n",
      "2017-04-02 21:24:42,198 : INFO : PROGRESS: at sentence #640000, processed 4194560 words, keeping 103602 word types\n",
      "2017-04-02 21:24:42,283 : INFO : PROGRESS: at sentence #650000, processed 4260743 words, keeping 104320 word types\n",
      "2017-04-02 21:24:42,366 : INFO : PROGRESS: at sentence #660000, processed 4326569 words, keeping 105074 word types\n",
      "2017-04-02 21:24:42,456 : INFO : PROGRESS: at sentence #670000, processed 4392906 words, keeping 105806 word types\n",
      "2017-04-02 21:24:42,544 : INFO : PROGRESS: at sentence #680000, processed 4459309 words, keeping 106569 word types\n",
      "2017-04-02 21:24:42,632 : INFO : PROGRESS: at sentence #690000, processed 4525213 words, keeping 107279 word types\n",
      "2017-04-02 21:24:42,727 : INFO : PROGRESS: at sentence #700000, processed 4591015 words, keeping 108010 word types\n",
      "2017-04-02 21:24:42,814 : INFO : PROGRESS: at sentence #710000, processed 4656400 words, keeping 108692 word types\n",
      "2017-04-02 21:24:42,914 : INFO : PROGRESS: at sentence #720000, processed 4722463 words, keeping 109393 word types\n",
      "2017-04-02 21:24:42,997 : INFO : PROGRESS: at sentence #730000, processed 4787914 words, keeping 110050 word types\n",
      "2017-04-02 21:24:43,082 : INFO : PROGRESS: at sentence #740000, processed 4853832 words, keeping 110714 word types\n",
      "2017-04-02 21:24:43,189 : INFO : PROGRESS: at sentence #750000, processed 4919539 words, keeping 111384 word types\n",
      "2017-04-02 21:24:43,281 : INFO : PROGRESS: at sentence #760000, processed 4985553 words, keeping 112048 word types\n",
      "2017-04-02 21:24:43,377 : INFO : PROGRESS: at sentence #770000, processed 5051620 words, keeping 112738 word types\n",
      "2017-04-02 21:24:43,468 : INFO : PROGRESS: at sentence #780000, processed 5117431 words, keeping 113381 word types\n",
      "2017-04-02 21:24:43,569 : INFO : PROGRESS: at sentence #790000, processed 5183402 words, keeping 114091 word types\n",
      "2017-04-02 21:24:43,656 : INFO : PROGRESS: at sentence #800000, processed 5250264 words, keeping 114730 word types\n",
      "2017-04-02 21:24:43,761 : INFO : collected 115287 word types from a corpus of 5307513 raw words and 808576 sentences\n",
      "2017-04-02 21:24:43,762 : INFO : Loading a fresh vocabulary\n",
      "2017-04-02 21:24:44,302 : INFO : min_count=1 retains 115287 unique words (100% of original 115287, drops 0)\n",
      "2017-04-02 21:24:44,303 : INFO : min_count=1 leaves 5307513 word corpus (100% of original 5307513, drops 0)\n",
      "2017-04-02 21:24:44,689 : INFO : deleting the raw counts dictionary of 115287 items\n",
      "2017-04-02 21:24:44,698 : INFO : sample=0.001 downsamples 25 most-common words\n",
      "2017-04-02 21:24:44,699 : INFO : downsampling leaves estimated 4591175 word corpus (86.5% of prior 5307513)\n",
      "2017-04-02 21:24:44,701 : INFO : estimated required memory for 115287 words and 300 dimensions: 334332300 bytes\n",
      "2017-04-02 21:24:45,320 : INFO : resetting layer weights\n",
      "2017-04-02 21:24:47,584 : INFO : training model with 4 workers on 115287 vocabulary and 300 features, using sg=0 hs=0 sample=0.001 negative=5 window=10\n",
      "2017-04-02 21:24:47,585 : INFO : expecting 808576 sentences, matching count from corpus used for vocabulary survey\n",
      "2017-04-02 21:24:48,595 : INFO : PROGRESS: at 1.37% examples, 309597 words/s, in_qsize 6, out_qsize 0\n",
      "2017-04-02 21:24:49,649 : INFO : PROGRESS: at 3.26% examples, 360759 words/s, in_qsize 7, out_qsize 1\n",
      "2017-04-02 21:24:50,670 : INFO : PROGRESS: at 4.47% examples, 333187 words/s, in_qsize 7, out_qsize 0\n",
      "2017-04-02 21:24:51,656 : INFO : PROGRESS: at 6.44% examples, 361372 words/s, in_qsize 7, out_qsize 0\n",
      "2017-04-02 21:24:52,700 : INFO : PROGRESS: at 8.37% examples, 374064 words/s, in_qsize 8, out_qsize 1\n",
      "2017-04-02 21:24:53,698 : INFO : PROGRESS: at 10.56% examples, 394866 words/s, in_qsize 8, out_qsize 0\n",
      "2017-04-02 21:24:54,702 : INFO : PROGRESS: at 12.43% examples, 399945 words/s, in_qsize 7, out_qsize 0\n",
      "2017-04-02 21:24:55,714 : INFO : PROGRESS: at 14.45% examples, 407664 words/s, in_qsize 7, out_qsize 0\n",
      "2017-04-02 21:24:56,717 : INFO : PROGRESS: at 16.33% examples, 410204 words/s, in_qsize 8, out_qsize 0\n",
      "2017-04-02 21:24:57,720 : INFO : PROGRESS: at 18.17% examples, 411413 words/s, in_qsize 7, out_qsize 0\n",
      "2017-04-02 21:24:58,725 : INFO : PROGRESS: at 20.12% examples, 414711 words/s, in_qsize 6, out_qsize 0\n",
      "2017-04-02 21:24:59,740 : INFO : PROGRESS: at 21.60% examples, 407835 words/s, in_qsize 8, out_qsize 0\n",
      "2017-04-02 21:25:00,767 : INFO : PROGRESS: at 23.46% examples, 408175 words/s, in_qsize 7, out_qsize 0\n",
      "2017-04-02 21:25:01,801 : INFO : PROGRESS: at 25.43% examples, 410110 words/s, in_qsize 7, out_qsize 0\n",
      "2017-04-02 21:25:02,829 : INFO : PROGRESS: at 27.12% examples, 407970 words/s, in_qsize 8, out_qsize 0\n",
      "2017-04-02 21:25:03,836 : INFO : PROGRESS: at 28.94% examples, 408238 words/s, in_qsize 7, out_qsize 0\n",
      "2017-04-02 21:25:04,855 : INFO : PROGRESS: at 30.79% examples, 409112 words/s, in_qsize 7, out_qsize 1\n",
      "2017-04-02 21:25:05,840 : INFO : PROGRESS: at 32.32% examples, 406065 words/s, in_qsize 8, out_qsize 0\n",
      "2017-04-02 21:25:06,841 : INFO : PROGRESS: at 34.12% examples, 406513 words/s, in_qsize 7, out_qsize 0\n",
      "2017-04-02 21:25:07,952 : INFO : PROGRESS: at 35.58% examples, 400911 words/s, in_qsize 7, out_qsize 0\n",
      "2017-04-02 21:25:08,966 : INFO : PROGRESS: at 37.04% examples, 397664 words/s, in_qsize 7, out_qsize 0\n",
      "2017-04-02 21:25:09,969 : INFO : PROGRESS: at 39.04% examples, 400317 words/s, in_qsize 7, out_qsize 0\n",
      "2017-04-02 21:25:10,975 : INFO : PROGRESS: at 40.95% examples, 401953 words/s, in_qsize 8, out_qsize 0\n",
      "2017-04-02 21:25:11,994 : INFO : PROGRESS: at 42.93% examples, 403585 words/s, in_qsize 8, out_qsize 0\n",
      "2017-04-02 21:25:12,997 : INFO : PROGRESS: at 44.97% examples, 406018 words/s, in_qsize 7, out_qsize 0\n",
      "2017-04-02 21:25:14,024 : INFO : PROGRESS: at 46.97% examples, 407870 words/s, in_qsize 7, out_qsize 0\n",
      "2017-04-02 21:25:15,011 : INFO : PROGRESS: at 48.95% examples, 409295 words/s, in_qsize 8, out_qsize 0\n",
      "2017-04-02 21:25:16,055 : INFO : PROGRESS: at 50.98% examples, 410701 words/s, in_qsize 7, out_qsize 0\n",
      "2017-04-02 21:25:17,067 : INFO : PROGRESS: at 52.55% examples, 408976 words/s, in_qsize 8, out_qsize 0\n",
      "2017-04-02 21:25:18,065 : INFO : PROGRESS: at 54.50% examples, 410282 words/s, in_qsize 7, out_qsize 0\n",
      "2017-04-02 21:25:19,092 : INFO : PROGRESS: at 56.56% examples, 411994 words/s, in_qsize 7, out_qsize 0\n",
      "2017-04-02 21:25:20,114 : INFO : PROGRESS: at 58.55% examples, 413142 words/s, in_qsize 7, out_qsize 0\n",
      "2017-04-02 21:25:21,134 : INFO : PROGRESS: at 60.65% examples, 415052 words/s, in_qsize 7, out_qsize 0\n",
      "2017-04-02 21:25:22,149 : INFO : PROGRESS: at 62.66% examples, 416070 words/s, in_qsize 7, out_qsize 0\n",
      "2017-04-02 21:25:23,171 : INFO : PROGRESS: at 64.74% examples, 417490 words/s, in_qsize 7, out_qsize 0\n",
      "2017-04-02 21:25:24,216 : INFO : PROGRESS: at 66.41% examples, 415960 words/s, in_qsize 8, out_qsize 0\n",
      "2017-04-02 21:25:25,231 : INFO : PROGRESS: at 68.46% examples, 417147 words/s, in_qsize 7, out_qsize 0\n",
      "2017-04-02 21:25:26,258 : INFO : PROGRESS: at 70.53% examples, 418352 words/s, in_qsize 7, out_qsize 0\n",
      "2017-04-02 21:25:27,276 : INFO : PROGRESS: at 72.55% examples, 419395 words/s, in_qsize 8, out_qsize 0\n",
      "2017-04-02 21:25:28,290 : INFO : PROGRESS: at 74.61% examples, 420636 words/s, in_qsize 7, out_qsize 0\n",
      "2017-04-02 21:25:29,306 : INFO : PROGRESS: at 76.63% examples, 421579 words/s, in_qsize 8, out_qsize 0\n",
      "2017-04-02 21:25:30,313 : INFO : PROGRESS: at 78.63% examples, 422368 words/s, in_qsize 7, out_qsize 0\n",
      "2017-04-02 21:25:31,357 : INFO : PROGRESS: at 80.35% examples, 421401 words/s, in_qsize 7, out_qsize 0\n",
      "2017-04-02 21:25:32,358 : INFO : PROGRESS: at 82.25% examples, 421632 words/s, in_qsize 7, out_qsize 0\n",
      "2017-04-02 21:25:33,375 : INFO : PROGRESS: at 84.33% examples, 422653 words/s, in_qsize 8, out_qsize 0\n",
      "2017-04-02 21:25:34,384 : INFO : PROGRESS: at 86.30% examples, 423139 words/s, in_qsize 7, out_qsize 0\n",
      "2017-04-02 21:25:35,396 : INFO : PROGRESS: at 88.34% examples, 423950 words/s, in_qsize 7, out_qsize 0\n",
      "2017-04-02 21:25:36,427 : INFO : PROGRESS: at 90.08% examples, 423145 words/s, in_qsize 7, out_qsize 0\n",
      "2017-04-02 21:25:37,441 : INFO : PROGRESS: at 91.99% examples, 423389 words/s, in_qsize 7, out_qsize 0\n",
      "2017-04-02 21:25:38,455 : INFO : PROGRESS: at 93.94% examples, 423785 words/s, in_qsize 7, out_qsize 0\n",
      "2017-04-02 21:25:39,483 : INFO : PROGRESS: at 95.18% examples, 420890 words/s, in_qsize 8, out_qsize 0\n",
      "2017-04-02 21:25:40,491 : INFO : PROGRESS: at 96.49% examples, 418589 words/s, in_qsize 7, out_qsize 0\n",
      "2017-04-02 21:25:41,506 : INFO : PROGRESS: at 97.84% examples, 416482 words/s, in_qsize 7, out_qsize 0\n",
      "2017-04-02 21:25:42,521 : INFO : PROGRESS: at 99.08% examples, 413989 words/s, in_qsize 7, out_qsize 0\n",
      "2017-04-02 21:25:43,064 : INFO : worker thread finished; awaiting finish of 3 more threads\n",
      "2017-04-02 21:25:43,084 : INFO : worker thread finished; awaiting finish of 2 more threads\n",
      "2017-04-02 21:25:43,096 : INFO : worker thread finished; awaiting finish of 1 more threads\n",
      "2017-04-02 21:25:43,103 : INFO : worker thread finished; awaiting finish of 0 more threads\n",
      "2017-04-02 21:25:43,104 : INFO : training on 26537565 raw words (22955361 effective words) took 55.5s, 413497 effective words/s\n"
     ]
    }
   ],
   "source": [
    "model = Word2Vec(sentences, workers=num_workers, \\\n",
    "            size=num_features, min_count = min_word_count, \\\n",
    "            window = context, sample = downsampling)"
   ]
  },
  {
   "cell_type": "code",
   "execution_count": 163,
   "metadata": {
    "collapsed": false
   },
   "outputs": [
    {
     "name": "stderr",
     "output_type": "stream",
     "text": [
      "2017-04-02 21:25:53,986 : INFO : precomputing L2-norms of word weight vectors\n"
     ]
    }
   ],
   "source": [
    "model.init_sims(replace=True)"
   ]
  },
  {
   "cell_type": "code",
   "execution_count": 164,
   "metadata": {
    "collapsed": false
   },
   "outputs": [
    {
     "name": "stderr",
     "output_type": "stream",
     "text": [
      "2017-04-02 21:25:55,310 : INFO : saving Word2Vec object under paired_qeustion_300f_40m_10c, separately None\n",
      "2017-04-02 21:25:55,312 : INFO : not storing attribute syn0norm\n",
      "2017-04-02 21:25:55,314 : INFO : storing np array 'syn0' to paired_qeustion_300f_40m_10c.wv.syn0.npy\n",
      "2017-04-02 21:25:55,782 : INFO : storing np array 'syn1neg' to paired_qeustion_300f_40m_10c.syn1neg.npy\n",
      "2017-04-02 21:25:56,141 : INFO : not storing attribute cum_table\n",
      "2017-04-02 21:25:57,450 : INFO : saved paired_qeustion_300f_40m_10c\n"
     ]
    }
   ],
   "source": [
    "model.save('model/paired_qeustion_300f_40m_10c')"
   ]
  },
  {
   "cell_type": "code",
   "execution_count": 166,
   "metadata": {
    "collapsed": false
   },
   "outputs": [
    {
     "name": "stderr",
     "output_type": "stream",
     "text": [
      "2017-04-02 21:26:13,283 : INFO : loading Word2Vec object from paired_qeustion_300f_40m_10c\n",
      "2017-04-02 21:26:13,739 : INFO : loading wv recursively from paired_qeustion_300f_40m_10c.wv.* with mmap=None\n",
      "2017-04-02 21:26:13,739 : INFO : loading syn0 from paired_qeustion_300f_40m_10c.wv.syn0.npy with mmap=None\n",
      "2017-04-02 21:26:14,230 : INFO : setting ignored attribute syn0norm to None\n",
      "2017-04-02 21:26:14,232 : INFO : loading syn1neg from paired_qeustion_300f_40m_10c.syn1neg.npy with mmap=None\n",
      "2017-04-02 21:26:14,739 : INFO : setting ignored attribute cum_table to None\n",
      "2017-04-02 21:26:14,741 : INFO : loaded paired_qeustion_300f_40m_10c\n"
     ]
    }
   ],
   "source": [
    "model = Word2Vec.load(\"model/paired_qeustion_300f_40m_10c\")"
   ]
  },
  {
   "cell_type": "code",
   "execution_count": null,
   "metadata": {
    "collapsed": true
   },
   "outputs": [],
   "source": [
    "def makeFeatureVec(words, model, num_features):\n",
    "    # Function to average all of the word vectors in a given\n",
    "    # paragraph\n",
    "    #\n",
    "    # Pre-initialize an empty numpy array (for speed)\n",
    "    featureVec = np.zeros((num_features,),dtype=\"float32\")\n",
    "    #\n",
    "    nwords = 0.\n",
    "    # \n",
    "    # Index2word is a list that contains the names of the words in \n",
    "    # the model's vocabulary. Convert it to a set, for speed \n",
    "    index2word_set = set_sentences\n",
    "    #\n",
    "    # Loop over each word in the review and, if it is in the model's\n",
    "    # vocaublary, add its feature vector to the total\n",
    "    for word in words:\n",
    "        if word in index2word_set: \n",
    "            nwords = nwords + 1.\n",
    "            featureVec = np.add(featureVec,model[word])\n",
    "    # \n",
    "    # Divide the result by the number of words to get the average\n",
    "    featureVec = np.divide(featureVec,nwords)\n",
    "    return featureVec\n"
   ]
  },
  {
   "cell_type": "code",
   "execution_count": 167,
   "metadata": {
    "collapsed": true
   },
   "outputs": [],
   "source": [
    "set_sentences = set()\n",
    "for item in sentences:\n",
    "    for i in item:\n",
    "        set_sentences.add(i)"
   ]
  },
  {
   "cell_type": "code",
   "execution_count": 250,
   "metadata": {
    "collapsed": false
   },
   "outputs": [],
   "source": [
    "counter = 0\n",
    "trainDataVecs = np.zeros((len(df_train), num_features,), dtype= 'float32')\n",
    "for i in df_train.index.values:\n",
    "    words = df_train.question1_unigram[i] + df_train.question2_unigram[i]\n",
    "    set_words = set(words)\n",
    "    nwords = 0.\n",
    "    featureVec = np.zeros((num_features,), dtype= 'float32')\n",
    "    for word in set_words:\n",
    "        if word in index2word_set: \n",
    "            nwords = nwords + 1\n",
    "            featureVec = np.add(featureVec,model[word])\n",
    "    trainDataVecs[counter] = np.divide(featureVec, nwords)                                 \n",
    "    counter += 1"
   ]
  },
  {
   "cell_type": "code",
   "execution_count": 256,
   "metadata": {
    "collapsed": true
   },
   "outputs": [],
   "source": [
    "counter = 0\n",
    "testDataVecs = np.zeros((len(df_test), num_features,), dtype= 'float32')\n",
    "for i in df_test.index.values:\n",
    "    words = df_test.question1_unigram[i] + df_test.question2_unigram[i]\n",
    "    set_words = set(words)\n",
    "    nwords = 0.\n",
    "    featureVec = np.zeros((num_features,), dtype= 'float32')\n",
    "    for word in set_words:\n",
    "        if word in index2word_set: \n",
    "            nwords = nwords + 1\n",
    "            featureVec = np.add(featureVec,model[word])\n",
    "    testDataVecs[counter] = np.divide(featureVec, nwords)                                 \n",
    "    counter += 1"
   ]
  },
  {
   "cell_type": "code",
   "execution_count": 252,
   "metadata": {
    "collapsed": false
   },
   "outputs": [
    {
     "data": {
      "text/plain": [
       "(363859, 300)"
      ]
     },
     "execution_count": 252,
     "metadata": {},
     "output_type": "execute_result"
    }
   ],
   "source": [
    "trainDataVecs.shape"
   ]
  },
  {
   "cell_type": "code",
   "execution_count": 253,
   "metadata": {
    "collapsed": false
   },
   "outputs": [
    {
     "data": {
      "text/plain": [
       "(363859, 22)"
      ]
     },
     "execution_count": 253,
     "metadata": {},
     "output_type": "execute_result"
    }
   ],
   "source": [
    "df_train.shape"
   ]
  },
  {
   "cell_type": "code",
   "execution_count": 255,
   "metadata": {
    "collapsed": false
   },
   "outputs": [
    {
     "data": {
      "text/plain": [
       "RandomForestClassifier(bootstrap=True, class_weight=None, criterion='gini',\n",
       "            max_depth=None, max_features='auto', max_leaf_nodes=None,\n",
       "            min_impurity_split=1e-07, min_samples_leaf=1,\n",
       "            min_samples_split=2, min_weight_fraction_leaf=0.0,\n",
       "            n_estimators=10, n_jobs=1, oob_score=False, random_state=None,\n",
       "            verbose=0, warm_start=False)"
      ]
     },
     "execution_count": 255,
     "metadata": {},
     "output_type": "execute_result"
    }
   ],
   "source": [
    "forest = RandomForestClassifier()\n",
    "forest.fit(trainDataVecs, df_train.is_duplicate)"
   ]
  },
  {
   "cell_type": "code",
   "execution_count": 257,
   "metadata": {
    "collapsed": false
   },
   "outputs": [
    {
     "data": {
      "text/plain": [
       "0.76967028618071187"
      ]
     },
     "execution_count": 257,
     "metadata": {},
     "output_type": "execute_result"
    }
   ],
   "source": [
    "forest.score(testDataVecs, df_test_y_test)"
   ]
  },
  {
   "cell_type": "code",
   "execution_count": 261,
   "metadata": {
    "collapsed": false
   },
   "outputs": [
    {
     "data": {
      "text/plain": [
       "0.75697865353037763"
      ]
     },
     "execution_count": 261,
     "metadata": {},
     "output_type": "execute_result"
    }
   ],
   "source": [
    "metrics.precision_score(df_test_y_test, forest.predict(testDataVecs))"
   ]
  },
  {
   "cell_type": "code",
   "execution_count": 258,
   "metadata": {
    "collapsed": true
   },
   "outputs": [],
   "source": [
    "df_test_x_test_pred_prob = forest.predict_proba(testDataVecs)[:,1]"
   ]
  },
  {
   "cell_type": "code",
   "execution_count": 259,
   "metadata": {
    "collapsed": false
   },
   "outputs": [
    {
     "data": {
      "text/plain": [
       "0.83240540778389271"
      ]
     },
     "execution_count": 259,
     "metadata": {},
     "output_type": "execute_result"
    }
   ],
   "source": [
    "roc_auc_score(df_test_y_test, df_test_x_test_pred_prob)"
   ]
  },
  {
   "cell_type": "code",
   "execution_count": 293,
   "metadata": {
    "collapsed": false
   },
   "outputs": [
    {
     "name": "stderr",
     "output_type": "stream",
     "text": [
      "2017-04-03 14:07:36,336 : INFO : loading projection weights from /Users/lihuama/Downloads/GoogleNews-vectors-negative300.bin\n",
      "2017-04-03 14:09:20,683 : INFO : loaded (3000000, 300) matrix from /Users/lihuama/Downloads/GoogleNews-vectors-negative300.bin\n"
     ]
    }
   ],
   "source": [
    "model2 = gensim.models.KeyedVectors.load_word2vec_format('/Users/lihuama/Downloads/GoogleNews-vectors-negative300.bin', binary=True)  "
   ]
  },
  {
   "cell_type": "code",
   "execution_count": 327,
   "metadata": {
    "collapsed": false
   },
   "outputs": [],
   "source": [
    "counter = 0\n",
    "trainDataVecs2 = np.zeros((len(df_train), num_features,), dtype= 'float32')\n",
    "index2word_set = set(model2.index2word)\n",
    "for i in df_train.index.values:\n",
    "    words = df_train.question1_unigram[i] + df_train.question2_unigram[i]\n",
    "    set_words = set(words)\n",
    "    nwords = 0.\n",
    "    featureVec = np.zeros((num_features,), dtype= 'float32')\n",
    "    for word in set_words:\n",
    "        if word in index2word_set: \n",
    "            nwords = nwords + 1\n",
    "            featureVec = np.add(featureVec,model2[word])\n",
    "    trainDataVecs2[counter] = np.divide(featureVec, nwords + 1.)                                 \n",
    "    counter += 1"
   ]
  },
  {
   "cell_type": "code",
   "execution_count": 331,
   "metadata": {
    "collapsed": false
   },
   "outputs": [],
   "source": [
    "counter = 0\n",
    "testDataVecs2 = np.zeros((len(df_test), num_features,), dtype= 'float32')\n",
    "index2word_set = set(model2.index2word)\n",
    "for i in df_test.index.values:\n",
    "    words = df_test.question1_unigram[i] + df_test.question2_unigram[i]\n",
    "    set_words = set(words)\n",
    "    nwords = 0.\n",
    "    featureVec = np.zeros((num_features,), dtype= 'float32')\n",
    "    for word in set_words:\n",
    "        if word in index2word_set: \n",
    "            nwords = nwords + 1\n",
    "            featureVec = np.add(featureVec,model[word])\n",
    "    testDataVecs2[counter] = np.divide(featureVec, nwords+1)                                 \n",
    "    counter += 1"
   ]
  },
  {
   "cell_type": "code",
   "execution_count": 311,
   "metadata": {
    "collapsed": false
   },
   "outputs": [
    {
     "data": {
      "text/plain": [
       "(40429, 300)"
      ]
     },
     "execution_count": 311,
     "metadata": {},
     "output_type": "execute_result"
    }
   ],
   "source": [
    "testDataVecs2.shape"
   ]
  },
  {
   "cell_type": "code",
   "execution_count": 329,
   "metadata": {
    "collapsed": false
   },
   "outputs": [
    {
     "data": {
      "text/plain": [
       "RandomForestClassifier(bootstrap=True, class_weight=None, criterion='gini',\n",
       "            max_depth=None, max_features='auto', max_leaf_nodes=None,\n",
       "            min_impurity_split=1e-07, min_samples_leaf=1,\n",
       "            min_samples_split=2, min_weight_fraction_leaf=0.0,\n",
       "            n_estimators=10, n_jobs=1, oob_score=False, random_state=None,\n",
       "            verbose=0, warm_start=False)"
      ]
     },
     "execution_count": 329,
     "metadata": {},
     "output_type": "execute_result"
    }
   ],
   "source": [
    "forest = RandomForestClassifier()\n",
    "forest.fit(trainDataVecs2, df_train.is_duplicate)"
   ]
  },
  {
   "cell_type": "code",
   "execution_count": 330,
   "metadata": {
    "collapsed": false
   },
   "outputs": [
    {
     "data": {
      "text/plain": [
       "0"
      ]
     },
     "execution_count": 330,
     "metadata": {},
     "output_type": "execute_result"
    }
   ],
   "source": [
    "np.sum(np.isnan(trainDataVecs2))"
   ]
  },
  {
   "cell_type": "code",
   "execution_count": 316,
   "metadata": {
    "collapsed": false
   },
   "outputs": [
    {
     "data": {
      "text/plain": [
       "(40429, 22)"
      ]
     },
     "execution_count": 316,
     "metadata": {},
     "output_type": "execute_result"
    }
   ],
   "source": [
    "df_test.shape"
   ]
  },
  {
   "cell_type": "code",
   "execution_count": 332,
   "metadata": {
    "collapsed": false
   },
   "outputs": [
    {
     "data": {
      "text/plain": [
       "0.60726211382918205"
      ]
     },
     "execution_count": 332,
     "metadata": {},
     "output_type": "execute_result"
    }
   ],
   "source": [
    "forest.score(testDataVecs2, df_test_y_test)"
   ]
  },
  {
   "cell_type": "code",
   "execution_count": 333,
   "metadata": {
    "collapsed": false
   },
   "outputs": [
    {
     "data": {
      "text/plain": [
       "0.41214233308877474"
      ]
     },
     "execution_count": 333,
     "metadata": {},
     "output_type": "execute_result"
    }
   ],
   "source": [
    "metrics.precision_score(df_test_y_test, forest.predict(testDataVecs))"
   ]
  },
  {
   "cell_type": "code",
   "execution_count": 334,
   "metadata": {
    "collapsed": true
   },
   "outputs": [],
   "source": [
    "df_test_x_test_pred_prob = forest.predict_proba(testDataVecs)[:,1]"
   ]
  },
  {
   "cell_type": "code",
   "execution_count": 335,
   "metadata": {
    "collapsed": false
   },
   "outputs": [
    {
     "data": {
      "text/plain": [
       "0.5250030851821833"
      ]
     },
     "execution_count": 335,
     "metadata": {},
     "output_type": "execute_result"
    }
   ],
   "source": [
    "roc_auc_score(df_test_y_test, df_test_x_test_pred_prob)"
   ]
  },
  {
   "cell_type": "code",
   "execution_count": null,
   "metadata": {
    "collapsed": true
   },
   "outputs": [],
   "source": []
  }
 ],
 "metadata": {
  "kernelspec": {
   "display_name": "Python [conda root]",
   "language": "python",
   "name": "conda-root-py"
  },
  "language_info": {
   "codemirror_mode": {
    "name": "ipython",
    "version": 2
   },
   "file_extension": ".py",
   "mimetype": "text/x-python",
   "name": "python",
   "nbconvert_exporter": "python",
   "pygments_lexer": "ipython2",
   "version": "2.7.13"
  }
 },
 "nbformat": 4,
 "nbformat_minor": 2
}
