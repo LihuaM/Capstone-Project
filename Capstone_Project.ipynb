{
 "cells": [
  {
   "cell_type": "code",
   "execution_count": 143,
   "metadata": {
    "collapsed": false
   },
   "outputs": [],
   "source": [
    "import pandas as pd\n",
    "import numpy as np\n",
    "import string\n",
    "from __future__ import division\n",
    "import nltk\n",
    "from nltk.corpus import stopwords\n",
    "from nltk import word_tokenize\n",
    "from nltk import ngrams\n",
    "from sklearn import metrics\n",
    "from sklearn.model_selection import train_test_split\n",
    "from sklearn.model_selection import GridSearchCV\n",
    "from sklearn.model_selection import cross_val_score\n",
    "from sklearn.metrics import accuracy_score, recall_score, precision_score, roc_auc_score\n",
    "from sklearn.metrics.pairwise import cosine_similarity\n",
    "from sklearn.feature_extraction.text import TfidfVectorizer\n",
    "from sklearn.ensemble import RandomForestClassifier\n",
    "from sklearn.ensemble import GradientBoostingClassifier\n",
    "import gensim\n",
    "from gensim.models import Word2Vec\n",
    "import logging\n",
    "\n",
    "import matplotlib.pyplot as plt\n",
    "import seaborn as sns\n",
    "%matplotlib inline"
   ]
  },
  {
   "cell_type": "markdown",
   "metadata": {},
   "source": [
    "# Read in Data "
   ]
  },
  {
   "cell_type": "code",
   "execution_count": 2,
   "metadata": {
    "collapsed": false
   },
   "outputs": [],
   "source": [
    "df = pd.read_table('data/quora_duplicate_questions.tsv')\n",
    "pd.set_option('display.max_colwidth', 200)\n",
    "pd.set_option('display.max_columns', 100)"
   ]
  },
  {
   "cell_type": "code",
   "execution_count": 3,
   "metadata": {
    "collapsed": false
   },
   "outputs": [
    {
     "data": {
      "text/html": [
       "<div>\n",
       "<table border=\"1\" class=\"dataframe\">\n",
       "  <thead>\n",
       "    <tr style=\"text-align: right;\">\n",
       "      <th></th>\n",
       "      <th>id</th>\n",
       "      <th>qid1</th>\n",
       "      <th>qid2</th>\n",
       "      <th>question1</th>\n",
       "      <th>question2</th>\n",
       "      <th>is_duplicate</th>\n",
       "    </tr>\n",
       "  </thead>\n",
       "  <tbody>\n",
       "    <tr>\n",
       "      <th>0</th>\n",
       "      <td>0</td>\n",
       "      <td>1</td>\n",
       "      <td>2</td>\n",
       "      <td>What is the step by step guide to invest in share market in india?</td>\n",
       "      <td>What is the step by step guide to invest in share market?</td>\n",
       "      <td>0</td>\n",
       "    </tr>\n",
       "    <tr>\n",
       "      <th>1</th>\n",
       "      <td>1</td>\n",
       "      <td>3</td>\n",
       "      <td>4</td>\n",
       "      <td>What is the story of Kohinoor (Koh-i-Noor) Diamond?</td>\n",
       "      <td>What would happen if the Indian government stole the Kohinoor (Koh-i-Noor) diamond back?</td>\n",
       "      <td>0</td>\n",
       "    </tr>\n",
       "    <tr>\n",
       "      <th>2</th>\n",
       "      <td>2</td>\n",
       "      <td>5</td>\n",
       "      <td>6</td>\n",
       "      <td>How can I increase the speed of my internet connection while using a VPN?</td>\n",
       "      <td>How can Internet speed be increased by hacking through DNS?</td>\n",
       "      <td>0</td>\n",
       "    </tr>\n",
       "    <tr>\n",
       "      <th>3</th>\n",
       "      <td>3</td>\n",
       "      <td>7</td>\n",
       "      <td>8</td>\n",
       "      <td>Why am I mentally very lonely? How can I solve it?</td>\n",
       "      <td>Find the remainder when [math]23^{24}[/math] is divided by 24,23?</td>\n",
       "      <td>0</td>\n",
       "    </tr>\n",
       "    <tr>\n",
       "      <th>4</th>\n",
       "      <td>4</td>\n",
       "      <td>9</td>\n",
       "      <td>10</td>\n",
       "      <td>Which one dissolve in water quikly sugar, salt, methane and carbon di oxide?</td>\n",
       "      <td>Which fish would survive in salt water?</td>\n",
       "      <td>0</td>\n",
       "    </tr>\n",
       "  </tbody>\n",
       "</table>\n",
       "</div>"
      ],
      "text/plain": [
       "   id  qid1  qid2  \\\n",
       "0   0     1     2   \n",
       "1   1     3     4   \n",
       "2   2     5     6   \n",
       "3   3     7     8   \n",
       "4   4     9    10   \n",
       "\n",
       "                                                                      question1  \\\n",
       "0            What is the step by step guide to invest in share market in india?   \n",
       "1                           What is the story of Kohinoor (Koh-i-Noor) Diamond?   \n",
       "2     How can I increase the speed of my internet connection while using a VPN?   \n",
       "3                            Why am I mentally very lonely? How can I solve it?   \n",
       "4  Which one dissolve in water quikly sugar, salt, methane and carbon di oxide?   \n",
       "\n",
       "                                                                                  question2  \\\n",
       "0                                 What is the step by step guide to invest in share market?   \n",
       "1  What would happen if the Indian government stole the Kohinoor (Koh-i-Noor) diamond back?   \n",
       "2                               How can Internet speed be increased by hacking through DNS?   \n",
       "3                         Find the remainder when [math]23^{24}[/math] is divided by 24,23?   \n",
       "4                                                   Which fish would survive in salt water?   \n",
       "\n",
       "   is_duplicate  \n",
       "0             0  \n",
       "1             0  \n",
       "2             0  \n",
       "3             0  \n",
       "4             0  "
      ]
     },
     "execution_count": 3,
     "metadata": {},
     "output_type": "execute_result"
    }
   ],
   "source": [
    "df.head()"
   ]
  },
  {
   "cell_type": "code",
   "execution_count": 4,
   "metadata": {
    "collapsed": false
   },
   "outputs": [
    {
     "name": "stdout",
     "output_type": "stream",
     "text": [
      "<class 'pandas.core.frame.DataFrame'>\n",
      "RangeIndex: 404290 entries, 0 to 404289\n",
      "Data columns (total 6 columns):\n",
      "id              404290 non-null int64\n",
      "qid1            404290 non-null int64\n",
      "qid2            404290 non-null int64\n",
      "question1       404290 non-null object\n",
      "question2       404288 non-null object\n",
      "is_duplicate    404290 non-null int64\n",
      "dtypes: int64(4), object(2)\n",
      "memory usage: 18.5+ MB\n"
     ]
    }
   ],
   "source": [
    "df.info()"
   ]
  },
  {
   "cell_type": "markdown",
   "metadata": {},
   "source": [
    "# Drop Null Values"
   ]
  },
  {
   "cell_type": "code",
   "execution_count": 5,
   "metadata": {
    "collapsed": false
   },
   "outputs": [],
   "source": [
    "df.dropna(inplace = True)\n",
    "df.drop(['id','qid1','qid2'], axis=1, inplace = True)"
   ]
  },
  {
   "cell_type": "code",
   "execution_count": 6,
   "metadata": {
    "collapsed": false
   },
   "outputs": [
    {
     "data": {
      "text/plain": [
       "(404288, 3)"
      ]
     },
     "execution_count": 6,
     "metadata": {},
     "output_type": "execute_result"
    }
   ],
   "source": [
    "df.shape"
   ]
  },
  {
   "cell_type": "code",
   "execution_count": 7,
   "metadata": {
    "collapsed": false
   },
   "outputs": [
    {
     "data": {
      "text/plain": [
       "0    255025\n",
       "1    149263\n",
       "Name: is_duplicate, dtype: int64"
      ]
     },
     "execution_count": 7,
     "metadata": {},
     "output_type": "execute_result"
    }
   ],
   "source": [
    "df.is_duplicate.value_counts()"
   ]
  },
  {
   "cell_type": "code",
   "execution_count": 8,
   "metadata": {
    "collapsed": false
   },
   "outputs": [
    {
     "data": {
      "image/png": "[encoded data removed]",
      "text/plain": [
       "<matplotlib.figure.Figure at 0x1223328d0>"
      ]
     },
     "metadata": {},
     "output_type": "display_data"
    }
   ],
   "source": [
    "plt.rcParams['figure.figsize'] = (8, 6)\n",
    "df.groupby('is_duplicate').is_duplicate.count().plot(kind='bar', rot=0)\n",
    "plt.xlabel('Duplicate or Not')\n",
    "plt.ylabel('Count of Paired Questions')\n",
    "plt.title('Count of Duplicated or Not_Duplicated Questions', fontsize=15)\n",
    "plt.show()"
   ]
  },
  {
   "cell_type": "markdown",
   "metadata": {},
   "source": [
    "# Split Dataset into df_train and df_test"
   ]
  },
  {
   "cell_type": "code",
   "execution_count": 9,
   "metadata": {
    "collapsed": true
   },
   "outputs": [],
   "source": [
    "X = df[['question1', 'question2']]\n",
    "y = df.is_duplicate"
   ]
  },
  {
   "cell_type": "code",
   "execution_count": 10,
   "metadata": {
    "collapsed": true
   },
   "outputs": [],
   "source": [
    "X_train, X_test, y_train, y_test = train_test_split(X, y, test_size = 0.1)"
   ]
  },
  {
   "cell_type": "code",
   "execution_count": 11,
   "metadata": {
    "collapsed": false
   },
   "outputs": [],
   "source": [
    "df_train = pd.concat([X_train, y_train], axis=1)"
   ]
  },
  {
   "cell_type": "code",
   "execution_count": 12,
   "metadata": {
    "collapsed": false
   },
   "outputs": [],
   "source": [
    "df_test = pd.concat([X_test, y_test], axis=1)"
   ]
  },
  {
   "cell_type": "code",
   "execution_count": 13,
   "metadata": {
    "collapsed": false
   },
   "outputs": [
    {
     "data": {
      "text/plain": [
       "0.62756931905315494"
      ]
     },
     "execution_count": 13,
     "metadata": {},
     "output_type": "execute_result"
    }
   ],
   "source": [
    "# Null Model for df_test\n",
    "y_test.value_counts()[0]/len(y_test)"
   ]
  },
  {
   "cell_type": "markdown",
   "metadata": {},
   "source": [
    "# Method One:  Regular Feature Engineering"
   ]
  },
  {
   "cell_type": "code",
   "execution_count": 14,
   "metadata": {
    "collapsed": true
   },
   "outputs": [],
   "source": [
    "# Get stopwords_set and punctuation set.\n",
    "stopwords_set = set(stopwords.words('english'))\n",
    "punctuation = set(string.punctuation)"
   ]
  },
  {
   "cell_type": "code",
   "execution_count": 15,
   "metadata": {
    "collapsed": false
   },
   "outputs": [],
   "source": [
    "# Get unigrams for each sentence.\n",
    "def get_unigram_sentence(sentence):\n",
    "    return [word for word in word_tokenize(sentence.lower()) if word not in stopwords_set and\\\n",
    "            word not in punctuation]"
   ]
  },
  {
   "cell_type": "markdown",
   "metadata": {},
   "source": [
    "## Get common_unigram_ratio Feature"
   ]
  },
  {
   "cell_type": "code",
   "execution_count": 16,
   "metadata": {
    "collapsed": false
   },
   "outputs": [],
   "source": [
    "# Function to get unigrams of question1 and question2.\n",
    "def get_unigrams(df):\n",
    "    df['question1_unigram'] = df['question1'].apply(lambda x:\\\n",
    "                                             get_unigram_sentence(x.decode(encoding='utf-8')))\n",
    "    df['question2_unigram'] = df['question2'].apply(lambda x:\\\n",
    "                                             get_unigram_sentence(x.decode(encoding='utf-8')))"
   ]
  },
  {
   "cell_type": "code",
   "execution_count": 17,
   "metadata": {
    "collapsed": false
   },
   "outputs": [],
   "source": [
    "# Get unigrams of question1 and question2 of training dataset.\n",
    "get_unigrams(df_train)"
   ]
  },
  {
   "cell_type": "code",
   "execution_count": 18,
   "metadata": {
    "collapsed": false
   },
   "outputs": [],
   "source": [
    "# Function to get common_unigram_ratio.\n",
    "def get_common_unigram_ratio(df):\n",
    "    df['common_unigram_count'] = df.apply(lambda x: len(set(x['question1_unigram']).\\\n",
    "                                        intersection(set(x['question2_unigram']))), axis=1)\n",
    "    \n",
    "    df['unigram_count'] = df.apply(lambda x: max(len(set(x['question1_unigram']).\\\n",
    "                                   union(set(x['question2_unigram']))), 1), axis=1)\n",
    "    \n",
    "    df['common_unigram_ratio'] = df['common_unigram_count'] / df['unigram_count']"
   ]
  },
  {
   "cell_type": "code",
   "execution_count": 19,
   "metadata": {
    "collapsed": true
   },
   "outputs": [],
   "source": [
    "# Get common_unigram_ratio of training dataset.\n",
    "get_common_unigram_ratio(df_train)"
   ]
  },
  {
   "cell_type": "code",
   "execution_count": 20,
   "metadata": {
    "collapsed": false
   },
   "outputs": [
    {
     "data": {
      "image/png": "[encoded data removed]",
      "text/plain": [
       "<matplotlib.figure.Figure at 0x1191eec90>"
      ]
     },
     "metadata": {},
     "output_type": "display_data"
    }
   ],
   "source": [
    "# Plot to show common_unigram_ratio diffence between two classes.\n",
    "plt.figure(figsize=(8,6))\n",
    "sns.violinplot(x='is_duplicate', y='common_unigram_ratio', data=df_train)\n",
    "plt.title('Common_Unigram_Ratio Difference Between Two Classes', fontsize=15)\n",
    "plt.savefig('image/common_unigram_ratio_violinplot')"
   ]
  },
  {
   "cell_type": "markdown",
   "metadata": {},
   "source": [
    "## Get common_bigram_ratio Feature"
   ]
  },
  {
   "cell_type": "code",
   "execution_count": 21,
   "metadata": {
    "collapsed": false
   },
   "outputs": [],
   "source": [
    "# Function to get bigrams of question1 and question2.\n",
    "def get_bigrams(df):\n",
    "    df['question1_bigram'] = df['question1_unigram'].apply(lambda x: [i for i in ngrams(x, 2)])\n",
    "    df['question2_bigram'] = df['question2_unigram'].apply(lambda x: [i for i in ngrams(x, 2)])                                             "
   ]
  },
  {
   "cell_type": "code",
   "execution_count": 22,
   "metadata": {
    "collapsed": false
   },
   "outputs": [],
   "source": [
    "# Get bigrams of question1 and question2 of training dataset.\n",
    "get_bigrams(df_train)"
   ]
  },
  {
   "cell_type": "code",
   "execution_count": 23,
   "metadata": {
    "collapsed": true
   },
   "outputs": [],
   "source": [
    "# Function to get common_bigram_ratio.\n",
    "def get_common_bigram_ratio(df):\n",
    "    df['common_bigram_count'] = df.apply(lambda x: len(set(x['question1_bigram']).\\\n",
    "                                         intersection(set(x['question2_bigram']))), axis=1)\n",
    "\n",
    "    df['bigram_count'] = df.apply(lambda x: max(len(set(x['question1_bigram']).\\\n",
    "                                union(set(x['question2_bigram']))), 1), axis=1)\n",
    "\n",
    "    df['common_bigram_ratio'] = df['common_bigram_count'] / df['bigram_count']   "
   ]
  },
  {
   "cell_type": "code",
   "execution_count": 24,
   "metadata": {
    "collapsed": true
   },
   "outputs": [],
   "source": [
    "# Get common_bigram_ratio of training dataset.\n",
    "get_common_bigram_ratio(df_train)"
   ]
  },
  {
   "cell_type": "code",
   "execution_count": 25,
   "metadata": {
    "collapsed": false
   },
   "outputs": [
    {
     "data": {
      "image/png": "[encoded data removed]",
      "text/plain": [
       "<matplotlib.figure.Figure at 0x10b689f10>"
      ]
     },
     "metadata": {},
     "output_type": "display_data"
    }
   ],
   "source": [
    "# Plot to show common_bigram_ratio difference between two classes.\n",
    "plt.figure(figsize=(8,6))\n",
    "sns.violinplot(x='is_duplicate', y='common_bigram_ratio', data=df_train)\n",
    "plt.title('Common_Bigram_Ratio Difference Between Two Classes', fontsize=15)\n",
    "plt.savefig('image/common_bigram_ratio_violinplot')"
   ]
  },
  {
   "cell_type": "markdown",
   "metadata": {},
   "source": [
    "## Get common_trigram_ratio Feature"
   ]
  },
  {
   "cell_type": "code",
   "execution_count": 26,
   "metadata": {
    "collapsed": true
   },
   "outputs": [],
   "source": [
    "# Function to get trigrams of question1 and question2.\n",
    "def get_trigrams(df):\n",
    "    df['question1_trigram'] = df['question1_unigram'].apply(lambda x: [i for i in ngrams(x, 3)])\n",
    "    df['question2_trigram'] = df['question2_unigram'].apply(lambda x: [i for i in ngrams(x, 3)])"
   ]
  },
  {
   "cell_type": "code",
   "execution_count": 27,
   "metadata": {
    "collapsed": true
   },
   "outputs": [],
   "source": [
    "# Get trigrams of question1 and question2 of traning dataset.\n",
    "get_trigrams(df_train)"
   ]
  },
  {
   "cell_type": "code",
   "execution_count": 28,
   "metadata": {
    "collapsed": true
   },
   "outputs": [],
   "source": [
    "# Function to get common_trigram_ratio of question1 and question2.\n",
    "def get_common_trigram_ratio(df):\n",
    "    df['common_trigram_count'] = df.apply(lambda x: len(set(x['question1_trigram']).\\\n",
    "                                          intersection(set(x['question2_trigram']))), axis=1)\n",
    "\n",
    "    df['trigram_count'] = df.apply(lambda x: max(len(set(x['question1_trigram']).\\\n",
    "                                   union(set(x['question2_trigram']))), 1), axis=1)\n",
    "\n",
    "    df['common_trigram_ratio'] = df['common_trigram_count'] / df['trigram_count'] "
   ]
  },
  {
   "cell_type": "code",
   "execution_count": 29,
   "metadata": {
    "collapsed": false
   },
   "outputs": [],
   "source": [
    "# Get common_trigram_ratio of question1 and question2 of training dataset.\n",
    "get_common_trigram_ratio(df_train)"
   ]
  },
  {
   "cell_type": "code",
   "execution_count": 30,
   "metadata": {
    "collapsed": false
   },
   "outputs": [
    {
     "data": {
      "image/png": "[encoded data removed]",
      "text/plain": [
       "<matplotlib.figure.Figure at 0x1191d0850>"
      ]
     },
     "metadata": {},
     "output_type": "display_data"
    }
   ],
   "source": [
    "# Plot to show common_trigram_ratio difference between two classes.\n",
    "plt.figure(figsize=(8,6))\n",
    "sns.violinplot(x='is_duplicate', y='common_trigram_ratio', data=df_train)\n",
    "plt.title('Common_Trigram_Ratio Difference Between Two Classes', fontsize=15)\n",
    "plt.savefig('image/common_trigram_ratio_violinplot')"
   ]
  },
  {
   "cell_type": "markdown",
   "metadata": {},
   "source": [
    "## Get cosine_similarity Feature"
   ]
  },
  {
   "cell_type": "code",
   "execution_count": 31,
   "metadata": {
    "collapsed": false
   },
   "outputs": [],
   "source": [
    "# Make tfidf_matrix of paired quesions.\n",
    "tfidf_vectorizer = TfidfVectorizer(stop_words=stopwords_set)\n",
    "tfidf_matrix = tfidf_vectorizer.fit(df_train.question1.values + df_train.question1.values)"
   ]
  },
  {
   "cell_type": "code",
   "execution_count": 49,
   "metadata": {
    "collapsed": false
   },
   "outputs": [],
   "source": [
    "# Function to get cosine_similarity of each paired questions.\n",
    "def get_cosine_similarity(df):\n",
    "    tfidf_matrix_transform1 = tfidf_vectorizer.transform(df.question1.values)\n",
    "    tfidf_matrix_transform2 = tfidf_vectorizer.transform(df.question2.values)\n",
    "    cos = []\n",
    "    for i in range(len(df)):\n",
    "        cos.append(cosine_similarity(tfidf_matrix_transform1[i].toarray(),\\\n",
    "                                     tfidf_matrix_transform2[i].toarray()))\n",
    "\n",
    "    df['cosine_similarity'] = cos\n",
    "    df['cosine_similarity'] = df.cosine_similarity.apply(lambda x: x[0][0])"
   ]
  },
  {
   "cell_type": "code",
   "execution_count": 33,
   "metadata": {
    "collapsed": true
   },
   "outputs": [],
   "source": [
    "# Get cosine_similarity of each paired quesions of training dataset.\n",
    "get_cosine_similarity(df_train)"
   ]
  },
  {
   "cell_type": "code",
   "execution_count": 34,
   "metadata": {
    "collapsed": false
   },
   "outputs": [
    {
     "data": {
      "image/png": "[encoded data removed]",
      "text/plain": [
       "<matplotlib.figure.Figure at 0x11c13e8d0>"
      ]
     },
     "metadata": {},
     "output_type": "display_data"
    }
   ],
   "source": [
    "# Plot to show cosine_similarity difference between two classes.\n",
    "plt.figure(figsize=(8,6))\n",
    "sns.violinplot(x='is_duplicate', y='cosine_similarity', data=df_train)\n",
    "plt.title('Cosine_Similarity Difference Between Two Classes', fontsize=15)\n",
    "plt.savefig('image/cosine_similarity_violinplot')"
   ]
  },
  {
   "cell_type": "markdown",
   "metadata": {},
   "source": [
    "# Models"
   ]
  },
  {
   "cell_type": "code",
   "execution_count": 35,
   "metadata": {
    "collapsed": false
   },
   "outputs": [],
   "source": [
    "feature_cols = ['common_unigram_ratio', 'common_bigram_ratio','common_trigram_ratio',\\\n",
    "                'cosine_similarity']\n",
    "df_train_X = df_train[feature_cols]\n",
    "df_train_y = df_train.is_duplicate"
   ]
  },
  {
   "cell_type": "code",
   "execution_count": 36,
   "metadata": {
    "collapsed": false
   },
   "outputs": [
    {
     "data": {
      "text/plain": [
       "GridSearchCV(cv=3, error_score='raise',\n",
       "       estimator=RandomForestClassifier(bootstrap=True, class_weight=None, criterion='gini',\n",
       "            max_depth=None, max_features='auto', max_leaf_nodes=None,\n",
       "            min_impurity_split=1e-07, min_samples_leaf=1,\n",
       "            min_samples_split=2, min_weight_fraction_leaf=0.0,\n",
       "            n_estimators=10, n_jobs=1, oob_score=False, random_state=None,\n",
       "            verbose=0, warm_start=False),\n",
       "       fit_params={}, iid=True, n_jobs=-1,\n",
       "       param_grid={'n_estimators': [100, 300], 'max_features': ['sqrt'], 'max_depth': [3, 5]},\n",
       "       pre_dispatch='2*n_jobs', refit=True, return_train_score=True,\n",
       "       scoring='accuracy', verbose=0)"
      ]
     },
     "execution_count": 36,
     "metadata": {},
     "output_type": "execute_result"
    }
   ],
   "source": [
    "# Random Forest Clssifier Model\n",
    "rfc_grid = {'max_depth': [3, 5],\n",
    "            'n_estimators': [100, 300],\n",
    "            'max_features': ['sqrt']}\n",
    "rfc_gridsearch = GridSearchCV(RandomForestClassifier(),\n",
    "                                 rfc_grid,\n",
    "                                 n_jobs=-1,\n",
    "                                 cv = 3,\n",
    "                                 scoring='accuracy')\n",
    "rfc_gridsearch.fit(df_train_X, df_train_y)"
   ]
  },
  {
   "cell_type": "code",
   "execution_count": 37,
   "metadata": {
    "collapsed": false
   },
   "outputs": [
    {
     "data": {
      "text/plain": [
       "{'max_depth': 5, 'max_features': 'sqrt', 'n_estimators': 300}"
      ]
     },
     "execution_count": 37,
     "metadata": {},
     "output_type": "execute_result"
    }
   ],
   "source": [
    "rfc_gridsearch.best_params_"
   ]
  },
  {
   "cell_type": "code",
   "execution_count": 38,
   "metadata": {
    "collapsed": false
   },
   "outputs": [
    {
     "data": {
      "text/plain": [
       "0.69625596728403039"
      ]
     },
     "execution_count": 38,
     "metadata": {},
     "output_type": "execute_result"
    }
   ],
   "source": [
    "rfc_gridsearch.best_score_"
   ]
  },
  {
   "cell_type": "code",
   "execution_count": 42,
   "metadata": {
    "collapsed": false
   },
   "outputs": [
    {
     "name": "stdout",
     "output_type": "stream",
     "text": [
      "Fitting 3 folds for each of 4 candidates, totalling 12 fits\n"
     ]
    },
    {
     "name": "stderr",
     "output_type": "stream",
     "text": [
      "[Parallel(n_jobs=-1)]: Done  12 out of  12 | elapsed:  3.7min finished\n"
     ]
    },
    {
     "data": {
      "text/plain": [
       "GridSearchCV(cv=None, error_score='raise',\n",
       "       estimator=GradientBoostingClassifier(criterion='friedman_mse', init=None,\n",
       "              learning_rate=0.1, loss='deviance', max_depth=3,\n",
       "              max_features=None, max_leaf_nodes=None,\n",
       "              min_impurity_split=1e-07, min_samples_leaf=1,\n",
       "              min_samples_split=2, min_weight_fraction_leaf=0.0,\n",
       "              n_estimators=100, presort='auto', random_state=None,\n",
       "              subsample=1.0, verbose=0, warm_start=False),\n",
       "       fit_params={}, iid=True, n_jobs=-1,\n",
       "       param_grid={'n_estimators': [100, 300], 'max_features': ['sqrt'], 'learning_rate': [0.01, 0.1]},\n",
       "       pre_dispatch='2*n_jobs', refit=True, return_train_score=True,\n",
       "       scoring=None, verbose=True)"
      ]
     },
     "execution_count": 42,
     "metadata": {},
     "output_type": "execute_result"
    }
   ],
   "source": [
    "# Gradient Boosting Classfier Model\n",
    "gbc_grid = {'learning_rate': [0.01,0.1],\n",
    "            'n_estimators': [100, 300],\n",
    "            'max_features': ['sqrt']}\n",
    "gbc_gridsearch = GridSearchCV(GradientBoostingClassifier(),\n",
    "                                 gbr_grid,\n",
    "                                 n_jobs=-1,\n",
    "                                 verbose=True,)\n",
    "gbc_gridsearch.fit(df_train_X, df_train_y)"
   ]
  },
  {
   "cell_type": "code",
   "execution_count": 43,
   "metadata": {
    "collapsed": false
   },
   "outputs": [
    {
     "data": {
      "text/plain": [
       "{'learning_rate': 0.1, 'max_features': 'sqrt', 'n_estimators': 300}"
      ]
     },
     "execution_count": 43,
     "metadata": {},
     "output_type": "execute_result"
    }
   ],
   "source": [
    "gbc_gridsearch.best_params_"
   ]
  },
  {
   "cell_type": "code",
   "execution_count": 44,
   "metadata": {
    "collapsed": false
   },
   "outputs": [
    {
     "data": {
      "text/plain": [
       "0.70647695948155742"
      ]
     },
     "execution_count": 44,
     "metadata": {},
     "output_type": "execute_result"
    }
   ],
   "source": [
    "gbc_gridsearch.best_score_"
   ]
  },
  {
   "cell_type": "code",
   "execution_count": 64,
   "metadata": {
    "collapsed": false
   },
   "outputs": [
    {
     "data": {
      "text/plain": [
       "0.70800502392410247"
      ]
     },
     "execution_count": 64,
     "metadata": {},
     "output_type": "execute_result"
    }
   ],
   "source": [
    "gbc_gridsearch.score(df_train_X, df_train_y)"
   ]
  },
  {
   "cell_type": "markdown",
   "metadata": {},
   "source": [
    "## Test on Testing Dataset"
   ]
  },
  {
   "cell_type": "code",
   "execution_count": 50,
   "metadata": {
    "collapsed": false
   },
   "outputs": [],
   "source": [
    "get_unigrams(df_test)\n",
    "get_common_unigram_ratio(df_test)\n",
    "get_bigrams(df_test)\n",
    "get_common_bigram_ratio(df_test)\n",
    "get_trigrams(df_test)\n",
    "get_common_trigram_ratio(df_test)\n",
    "get_cosine_similarity(df_test)"
   ]
  },
  {
   "cell_type": "code",
   "execution_count": 52,
   "metadata": {
    "collapsed": true
   },
   "outputs": [],
   "source": [
    "df_test_X = df_test[feature_cols]\n",
    "df_test_y = df_test.is_duplicate"
   ]
  },
  {
   "cell_type": "code",
   "execution_count": 147,
   "metadata": {
    "collapsed": false
   },
   "outputs": [
    {
     "data": {
      "text/plain": [
       "GradientBoostingClassifier(criterion='friedman_mse', init=None,\n",
       "              learning_rate=0.1, loss='deviance', max_depth=3,\n",
       "              max_features='sqrt', max_leaf_nodes=None,\n",
       "              min_impurity_split=1e-07, min_samples_leaf=1,\n",
       "              min_samples_split=2, min_weight_fraction_leaf=0.0,\n",
       "              n_estimators=300, presort='auto', random_state=None,\n",
       "              subsample=1.0, verbose=0, warm_start=False)"
      ]
     },
     "execution_count": 147,
     "metadata": {},
     "output_type": "execute_result"
    }
   ],
   "source": [
    "GradientBoostingClassifier(learning_rate=0.1, max_features='sqrt', n_estimators=300)"
   ]
  },
  {
   "cell_type": "code",
   "execution_count": 149,
   "metadata": {
    "collapsed": false
   },
   "outputs": [],
   "source": [
    "gbc = GradientBoostingClassifier(learning_rate=0.1, max_features='sqrt', n_estimators=300)"
   ]
  },
  {
   "cell_type": "code",
   "execution_count": 150,
   "metadata": {
    "collapsed": false
   },
   "outputs": [
    {
     "data": {
      "text/plain": [
       "GradientBoostingClassifier(criterion='friedman_mse', init=None,\n",
       "              learning_rate=0.1, loss='deviance', max_depth=3,\n",
       "              max_features='sqrt', max_leaf_nodes=None,\n",
       "              min_impurity_split=1e-07, min_samples_leaf=1,\n",
       "              min_samples_split=2, min_weight_fraction_leaf=0.0,\n",
       "              n_estimators=300, presort='auto', random_state=None,\n",
       "              subsample=1.0, verbose=0, warm_start=False)"
      ]
     },
     "execution_count": 150,
     "metadata": {},
     "output_type": "execute_result"
    }
   ],
   "source": [
    "gbc.fit(df_train_X, df_train_y)"
   ]
  },
  {
   "cell_type": "code",
   "execution_count": 151,
   "metadata": {
    "collapsed": true
   },
   "outputs": [],
   "source": [
    "def get_scores(model, df_test_X, df_test_y):\n",
    "    model_accuracy_score = accuracy_score(df_test_y, model.predict(df_test_X))\n",
    "    model_recall_score = recall_score(df_test_y, model.predict(df_test_X))\n",
    "    model_precision_score = precision_score(df_test_y, model.predict(df_test_X))\n",
    "    model_roc_auc_score = roc_auc_score(df_test_y, model.predict_proba(df_test_X)[:,1])\n",
    "    print 'Accuracy Score = {:.2f}\\nRecall Score= {:.2f}\\nPrecision Score = {:.2f}\\nAUC_Score = {:.2f}'.\\\n",
    "      format(model_accuracy_score, model_recall_score, model_precision_score, model_roc_auc_score)"
   ]
  },
  {
   "cell_type": "code",
   "execution_count": 152,
   "metadata": {
    "collapsed": false
   },
   "outputs": [
    {
     "name": "stdout",
     "output_type": "stream",
     "text": [
      "Accuracy Score = 0.70\n",
      "Recall Score= 0.61\n",
      "Precision Score = 0.60\n",
      "AUC_Score = 0.79\n"
     ]
    }
   ],
   "source": [
    "get_scores(gbc_gridsearch, df_test_X, df_test_y)"
   ]
  },
  {
   "cell_type": "markdown",
   "metadata": {},
   "source": [
    "# Method 2:    Word2Vec"
   ]
  },
  {
   "cell_type": "code",
   "execution_count": 65,
   "metadata": {
    "collapsed": true
   },
   "outputs": [],
   "source": [
    "# Configure the logging model so that Word2Vec creates nice output messages.\n",
    "logging.basicConfig(format='%(levelname)s : %(message)s', level=logging.INFO)"
   ]
  },
  {
   "cell_type": "markdown",
   "metadata": {},
   "source": [
    "## Word2vec Self_Trained  Model"
   ]
  },
  {
   "cell_type": "code",
   "execution_count": 66,
   "metadata": {
    "collapsed": true
   },
   "outputs": [],
   "source": [
    "# Get unigrams of the whole dataset.\n",
    "get_unigrams(df)"
   ]
  },
  {
   "cell_type": "code",
   "execution_count": 67,
   "metadata": {
    "collapsed": false
   },
   "outputs": [],
   "source": [
    "# Combine question1 and question2 to list.\n",
    "sentences = df.question1_unigram.tolist() + df.question2_unigram.values.tolist()"
   ]
  },
  {
   "cell_type": "code",
   "execution_count": 68,
   "metadata": {
    "collapsed": true
   },
   "outputs": [],
   "source": [
    "# Set values for various parameters\n",
    "num_features = 300    # Word vector dimensionality                      \n",
    "min_word_count = 1    # Minimum word count                        \n",
    "num_workers = 4       # Number of threads to run in parallel\n",
    "context = 10          # Context window size                                                                                    \n",
    "downsampling = 1e-3   # Downsample setting for frequent words"
   ]
  },
  {
   "cell_type": "code",
   "execution_count": 79,
   "metadata": {
    "collapsed": false
   },
   "outputs": [
    {
     "name": "stderr",
     "output_type": "stream",
     "text": [
      "2017-05-01 16:12:04,289 : INFO : collecting all words and their counts\n",
      "2017-05-01 16:12:04,290 : INFO : PROGRESS: at sentence #0, processed 0 words, keeping 0 word types\n",
      "2017-05-01 16:12:04,332 : INFO : PROGRESS: at sentence #10000, processed 56055 words, keeping 12305 word types\n",
      "2017-05-01 16:12:04,379 : INFO : PROGRESS: at sentence #20000, processed 112347 words, keeping 18019 word types\n",
      "2017-05-01 16:12:04,434 : INFO : PROGRESS: at sentence #30000, processed 168329 words, keeping 22381 word types\n",
      "2017-05-01 16:12:04,477 : INFO : PROGRESS: at sentence #40000, processed 223916 words, keeping 26035 word types\n",
      "2017-05-01 16:12:04,524 : INFO : PROGRESS: at sentence #50000, processed 280112 words, keeping 29414 word types\n",
      "2017-05-01 16:12:04,577 : INFO : PROGRESS: at sentence #60000, processed 336149 words, keeping 32418 word types\n",
      "2017-05-01 16:12:04,628 : INFO : PROGRESS: at sentence #70000, processed 392143 words, keeping 35084 word types\n",
      "2017-05-01 16:12:04,677 : INFO : PROGRESS: at sentence #80000, processed 448240 words, keeping 37420 word types\n",
      "2017-05-01 16:12:04,743 : INFO : PROGRESS: at sentence #90000, processed 504265 words, keeping 39694 word types\n",
      "2017-05-01 16:12:04,813 : INFO : PROGRESS: at sentence #100000, processed 560283 words, keeping 41892 word types\n",
      "2017-05-01 16:12:04,877 : INFO : PROGRESS: at sentence #110000, processed 615599 words, keeping 43958 word types\n",
      "2017-05-01 16:12:04,949 : INFO : PROGRESS: at sentence #120000, processed 671492 words, keeping 45918 word types\n",
      "2017-05-01 16:12:05,023 : INFO : PROGRESS: at sentence #130000, processed 727644 words, keeping 47888 word types\n",
      "2017-05-01 16:12:05,106 : INFO : PROGRESS: at sentence #140000, processed 783734 words, keeping 49654 word types\n",
      "2017-05-01 16:12:05,170 : INFO : PROGRESS: at sentence #150000, processed 840085 words, keeping 51488 word types\n",
      "2017-05-01 16:12:05,236 : INFO : PROGRESS: at sentence #160000, processed 896551 words, keeping 53262 word types\n",
      "2017-05-01 16:12:05,300 : INFO : PROGRESS: at sentence #170000, processed 952718 words, keeping 54934 word types\n",
      "2017-05-01 16:12:05,363 : INFO : PROGRESS: at sentence #180000, processed 1009150 words, keeping 56608 word types\n",
      "2017-05-01 16:12:05,423 : INFO : PROGRESS: at sentence #190000, processed 1065340 words, keeping 58168 word types\n",
      "2017-05-01 16:12:05,489 : INFO : PROGRESS: at sentence #200000, processed 1120924 words, keeping 59715 word types\n",
      "2017-05-01 16:12:05,555 : INFO : PROGRESS: at sentence #210000, processed 1176526 words, keeping 61181 word types\n",
      "2017-05-01 16:12:05,624 : INFO : PROGRESS: at sentence #220000, processed 1232396 words, keeping 62544 word types\n",
      "2017-05-01 16:12:05,704 : INFO : PROGRESS: at sentence #230000, processed 1289029 words, keeping 63986 word types\n",
      "2017-05-01 16:12:05,770 : INFO : PROGRESS: at sentence #240000, processed 1344935 words, keeping 65317 word types\n",
      "2017-05-01 16:12:05,826 : INFO : PROGRESS: at sentence #250000, processed 1401597 words, keeping 66677 word types\n",
      "2017-05-01 16:12:05,888 : INFO : PROGRESS: at sentence #260000, processed 1458141 words, keeping 68051 word types\n",
      "2017-05-01 16:12:05,960 : INFO : PROGRESS: at sentence #270000, processed 1514667 words, keeping 69341 word types\n",
      "2017-05-01 16:12:06,028 : INFO : PROGRESS: at sentence #280000, processed 1570653 words, keeping 70616 word types\n",
      "2017-05-01 16:12:06,070 : INFO : PROGRESS: at sentence #290000, processed 1626831 words, keeping 71884 word types\n",
      "2017-05-01 16:12:06,106 : INFO : PROGRESS: at sentence #300000, processed 1682496 words, keeping 73147 word types\n",
      "2017-05-01 16:12:06,182 : INFO : PROGRESS: at sentence #310000, processed 1738601 words, keeping 74352 word types\n",
      "2017-05-01 16:12:06,230 : INFO : PROGRESS: at sentence #320000, processed 1794539 words, keeping 75537 word types\n",
      "2017-05-01 16:12:06,278 : INFO : PROGRESS: at sentence #330000, processed 1850962 words, keeping 76770 word types\n",
      "2017-05-01 16:12:06,378 : INFO : PROGRESS: at sentence #340000, processed 1906867 words, keeping 77871 word types\n",
      "2017-05-01 16:12:06,428 : INFO : PROGRESS: at sentence #350000, processed 1963061 words, keeping 78931 word types\n",
      "2017-05-01 16:12:06,530 : INFO : PROGRESS: at sentence #360000, processed 2019072 words, keeping 80009 word types\n",
      "2017-05-01 16:12:06,651 : INFO : PROGRESS: at sentence #370000, processed 2075277 words, keeping 81081 word types\n",
      "2017-05-01 16:12:06,722 : INFO : PROGRESS: at sentence #380000, processed 2131636 words, keeping 82187 word types\n",
      "2017-05-01 16:12:06,791 : INFO : PROGRESS: at sentence #390000, processed 2188598 words, keeping 83314 word types\n",
      "2017-05-01 16:12:06,860 : INFO : PROGRESS: at sentence #400000, processed 2245259 words, keeping 84336 word types\n",
      "2017-05-01 16:12:06,930 : INFO : PROGRESS: at sentence #410000, processed 2302007 words, keeping 85314 word types\n",
      "2017-05-01 16:12:07,002 : INFO : PROGRESS: at sentence #420000, processed 2358470 words, keeping 86227 word types\n",
      "2017-05-01 16:12:07,069 : INFO : PROGRESS: at sentence #430000, processed 2415366 words, keeping 87183 word types\n",
      "2017-05-01 16:12:07,148 : INFO : PROGRESS: at sentence #440000, processed 2471824 words, keeping 88026 word types\n",
      "2017-05-01 16:12:07,224 : INFO : PROGRESS: at sentence #450000, processed 2528829 words, keeping 88850 word types\n",
      "2017-05-01 16:12:07,299 : INFO : PROGRESS: at sentence #460000, processed 2585564 words, keeping 89679 word types\n",
      "2017-05-01 16:12:07,365 : INFO : PROGRESS: at sentence #470000, processed 2642228 words, keeping 90521 word types\n",
      "2017-05-01 16:12:07,435 : INFO : PROGRESS: at sentence #480000, processed 2698995 words, keeping 91361 word types\n",
      "2017-05-01 16:12:07,470 : INFO : PROGRESS: at sentence #490000, processed 2755876 words, keeping 92174 word types\n",
      "2017-05-01 16:12:07,508 : INFO : PROGRESS: at sentence #500000, processed 2812828 words, keeping 93012 word types\n",
      "2017-05-01 16:12:07,573 : INFO : PROGRESS: at sentence #510000, processed 2868592 words, keeping 93802 word types\n",
      "2017-05-01 16:12:07,621 : INFO : PROGRESS: at sentence #520000, processed 2925089 words, keeping 94591 word types\n",
      "2017-05-01 16:12:07,669 : INFO : PROGRESS: at sentence #530000, processed 2982179 words, keeping 95337 word types\n",
      "2017-05-01 16:12:07,728 : INFO : PROGRESS: at sentence #540000, processed 3039297 words, keeping 96161 word types\n",
      "2017-05-01 16:12:07,773 : INFO : PROGRESS: at sentence #550000, processed 3096538 words, keeping 96971 word types\n",
      "2017-05-01 16:12:07,831 : INFO : PROGRESS: at sentence #560000, processed 3153539 words, keeping 97745 word types\n",
      "2017-05-01 16:12:07,907 : INFO : PROGRESS: at sentence #570000, processed 3210620 words, keeping 98479 word types\n",
      "2017-05-01 16:12:07,980 : INFO : PROGRESS: at sentence #580000, processed 3267686 words, keeping 99212 word types\n",
      "2017-05-01 16:12:08,030 : INFO : PROGRESS: at sentence #590000, processed 3325051 words, keeping 99931 word types\n",
      "2017-05-01 16:12:08,129 : INFO : PROGRESS: at sentence #600000, processed 3381157 words, keeping 100620 word types\n",
      "2017-05-01 16:12:08,192 : INFO : PROGRESS: at sentence #610000, processed 3438117 words, keeping 101396 word types\n",
      "2017-05-01 16:12:08,241 : INFO : PROGRESS: at sentence #620000, processed 3494865 words, keeping 102133 word types\n",
      "2017-05-01 16:12:08,288 : INFO : PROGRESS: at sentence #630000, processed 3551507 words, keeping 102913 word types\n",
      "2017-05-01 16:12:08,336 : INFO : PROGRESS: at sentence #640000, processed 3607541 words, keeping 103595 word types\n",
      "2017-05-01 16:12:08,376 : INFO : PROGRESS: at sentence #650000, processed 3664495 words, keeping 104313 word types\n",
      "2017-05-01 16:12:08,421 : INFO : PROGRESS: at sentence #660000, processed 3721072 words, keeping 105067 word types\n",
      "2017-05-01 16:12:08,463 : INFO : PROGRESS: at sentence #670000, processed 3778216 words, keeping 105799 word types\n",
      "2017-05-01 16:12:08,508 : INFO : PROGRESS: at sentence #680000, processed 3835463 words, keeping 106562 word types\n",
      "2017-05-01 16:12:08,549 : INFO : PROGRESS: at sentence #690000, processed 3892234 words, keeping 107272 word types\n",
      "2017-05-01 16:12:08,588 : INFO : PROGRESS: at sentence #700000, processed 3948850 words, keeping 108003 word types\n",
      "2017-05-01 16:12:08,632 : INFO : PROGRESS: at sentence #710000, processed 4005096 words, keeping 108685 word types\n",
      "2017-05-01 16:12:08,676 : INFO : PROGRESS: at sentence #720000, processed 4061940 words, keeping 109386 word types\n",
      "2017-05-01 16:12:08,725 : INFO : PROGRESS: at sentence #730000, processed 4118171 words, keeping 110043 word types\n",
      "2017-05-01 16:12:08,767 : INFO : PROGRESS: at sentence #740000, processed 4174893 words, keeping 110707 word types\n",
      "2017-05-01 16:12:08,818 : INFO : PROGRESS: at sentence #750000, processed 4231411 words, keeping 111377 word types\n",
      "2017-05-01 16:12:08,874 : INFO : PROGRESS: at sentence #760000, processed 4288308 words, keeping 112041 word types\n",
      "2017-05-01 16:12:08,913 : INFO : PROGRESS: at sentence #770000, processed 4345158 words, keeping 112731 word types\n",
      "2017-05-01 16:12:08,958 : INFO : PROGRESS: at sentence #780000, processed 4401866 words, keeping 113374 word types\n",
      "2017-05-01 16:12:09,008 : INFO : PROGRESS: at sentence #790000, processed 4458751 words, keeping 114084 word types\n",
      "2017-05-01 16:12:09,050 : INFO : PROGRESS: at sentence #800000, processed 4516363 words, keeping 114723 word types\n",
      "2017-05-01 16:12:09,091 : INFO : collected 115280 word types from a corpus of 4565725 raw words and 808576 sentences\n",
      "2017-05-01 16:12:09,093 : INFO : Loading a fresh vocabulary\n",
      "2017-05-01 16:12:09,480 : INFO : min_count=1 retains 115280 unique words (100% of original 115280, drops 0)\n",
      "2017-05-01 16:12:09,480 : INFO : min_count=1 leaves 4565725 word corpus (100% of original 4565725, drops 0)\n",
      "2017-05-01 16:12:09,807 : INFO : deleting the raw counts dictionary of 115280 items\n",
      "2017-05-01 16:12:09,812 : INFO : sample=0.001 downsamples 25 most-common words\n",
      "2017-05-01 16:12:09,813 : INFO : downsampling leaves estimated 4376816 word corpus (95.9% of prior 4565725)\n",
      "2017-05-01 16:12:09,815 : INFO : estimated required memory for 115280 words and 300 dimensions: 334312000 bytes\n",
      "2017-05-01 16:12:10,198 : INFO : resetting layer weights\n",
      "2017-05-01 16:12:12,231 : INFO : training model with 4 workers on 115280 vocabulary and 300 features, using sg=0 hs=0 sample=0.001 negative=5 window=10\n",
      "2017-05-01 16:12:12,232 : INFO : expecting 808576 sentences, matching count from corpus used for vocabulary survey\n",
      "2017-05-01 16:12:13,256 : INFO : PROGRESS: at 2.03% examples, 432002 words/s, in_qsize 7, out_qsize 0\n",
      "2017-05-01 16:12:14,288 : INFO : PROGRESS: at 4.15% examples, 438880 words/s, in_qsize 8, out_qsize 0\n",
      "2017-05-01 16:12:15,296 : INFO : PROGRESS: at 6.39% examples, 454178 words/s, in_qsize 7, out_qsize 0\n",
      "2017-05-01 16:12:16,303 : INFO : PROGRESS: at 8.47% examples, 452508 words/s, in_qsize 7, out_qsize 0\n",
      "2017-05-01 16:12:17,304 : INFO : PROGRESS: at 10.83% examples, 465363 words/s, in_qsize 7, out_qsize 0\n",
      "2017-05-01 16:12:18,333 : INFO : PROGRESS: at 12.97% examples, 463731 words/s, in_qsize 8, out_qsize 2\n",
      "2017-05-01 16:12:19,366 : INFO : PROGRESS: at 14.96% examples, 458348 words/s, in_qsize 8, out_qsize 0\n",
      "2017-05-01 16:12:20,374 : INFO : PROGRESS: at 16.88% examples, 453356 words/s, in_qsize 8, out_qsize 0\n",
      "2017-05-01 16:12:21,378 : INFO : PROGRESS: at 18.97% examples, 453858 words/s, in_qsize 8, out_qsize 0\n",
      "2017-05-01 16:12:22,381 : INFO : PROGRESS: at 21.16% examples, 456212 words/s, in_qsize 7, out_qsize 0\n",
      "2017-05-01 16:12:23,417 : INFO : PROGRESS: at 23.37% examples, 456803 words/s, in_qsize 7, out_qsize 0\n",
      "2017-05-01 16:12:24,421 : INFO : PROGRESS: at 25.57% examples, 458524 words/s, in_qsize 7, out_qsize 0\n",
      "2017-05-01 16:12:25,441 : INFO : PROGRESS: at 27.64% examples, 457222 words/s, in_qsize 8, out_qsize 0\n",
      "2017-05-01 16:12:26,450 : INFO : PROGRESS: at 29.92% examples, 459864 words/s, in_qsize 8, out_qsize 0\n",
      "2017-05-01 16:12:27,452 : INFO : PROGRESS: at 31.97% examples, 459165 words/s, in_qsize 7, out_qsize 0\n",
      "2017-05-01 16:12:28,468 : INFO : PROGRESS: at 34.19% examples, 460496 words/s, in_qsize 7, out_qsize 0\n",
      "2017-05-01 16:12:29,476 : INFO : PROGRESS: at 36.37% examples, 461346 words/s, in_qsize 7, out_qsize 0\n",
      "2017-05-01 16:12:30,501 : INFO : PROGRESS: at 38.29% examples, 458543 words/s, in_qsize 7, out_qsize 0\n",
      "2017-05-01 16:12:31,505 : INFO : PROGRESS: at 40.46% examples, 459500 words/s, in_qsize 7, out_qsize 0\n",
      "2017-05-01 16:12:32,507 : INFO : PROGRESS: at 42.45% examples, 458080 words/s, in_qsize 7, out_qsize 0\n",
      "2017-05-01 16:12:33,528 : INFO : PROGRESS: at 44.48% examples, 456845 words/s, in_qsize 8, out_qsize 0\n",
      "2017-05-01 16:12:34,552 : INFO : PROGRESS: at 46.86% examples, 459088 words/s, in_qsize 8, out_qsize 0\n",
      "2017-05-01 16:12:35,555 : INFO : PROGRESS: at 48.84% examples, 457845 words/s, in_qsize 7, out_qsize 0\n",
      "2017-05-01 16:12:36,609 : INFO : PROGRESS: at 50.98% examples, 457314 words/s, in_qsize 8, out_qsize 0\n",
      "2017-05-01 16:12:37,623 : INFO : PROGRESS: at 53.12% examples, 457522 words/s, in_qsize 7, out_qsize 0\n",
      "2017-05-01 16:12:38,638 : INFO : PROGRESS: at 55.07% examples, 456253 words/s, in_qsize 7, out_qsize 0\n",
      "2017-05-01 16:12:39,651 : INFO : PROGRESS: at 57.43% examples, 458266 words/s, in_qsize 7, out_qsize 0\n",
      "2017-05-01 16:12:40,658 : INFO : PROGRESS: at 59.74% examples, 459889 words/s, in_qsize 7, out_qsize 0\n",
      "2017-05-01 16:12:41,696 : INFO : PROGRESS: at 61.85% examples, 459308 words/s, in_qsize 8, out_qsize 0\n",
      "2017-05-01 16:12:42,713 : INFO : PROGRESS: at 63.75% examples, 457508 words/s, in_qsize 8, out_qsize 0\n",
      "2017-05-01 16:12:43,768 : INFO : PROGRESS: at 65.64% examples, 455272 words/s, in_qsize 8, out_qsize 0\n",
      "2017-05-01 16:12:44,770 : INFO : PROGRESS: at 67.62% examples, 454516 words/s, in_qsize 6, out_qsize 0\n",
      "2017-05-01 16:12:45,792 : INFO : PROGRESS: at 69.56% examples, 453251 words/s, in_qsize 7, out_qsize 0\n",
      "2017-05-01 16:12:46,834 : INFO : PROGRESS: at 71.69% examples, 453171 words/s, in_qsize 8, out_qsize 0\n",
      "2017-05-01 16:12:47,858 : INFO : PROGRESS: at 73.74% examples, 452772 words/s, in_qsize 7, out_qsize 0\n",
      "2017-05-01 16:12:48,862 : INFO : PROGRESS: at 75.83% examples, 452914 words/s, in_qsize 8, out_qsize 0\n",
      "2017-05-01 16:12:49,919 : INFO : PROGRESS: at 77.88% examples, 452145 words/s, in_qsize 8, out_qsize 0\n",
      "2017-05-01 16:12:50,932 : INFO : PROGRESS: at 79.96% examples, 452192 words/s, in_qsize 8, out_qsize 0\n",
      "2017-05-01 16:12:51,959 : INFO : PROGRESS: at 82.08% examples, 452095 words/s, in_qsize 8, out_qsize 0\n",
      "2017-05-01 16:12:52,997 : INFO : PROGRESS: at 84.33% examples, 452575 words/s, in_qsize 7, out_qsize 0\n",
      "2017-05-01 16:12:54,010 : INFO : PROGRESS: at 86.53% examples, 453069 words/s, in_qsize 7, out_qsize 0\n",
      "2017-05-01 16:12:55,011 : INFO : PROGRESS: at 88.73% examples, 453681 words/s, in_qsize 8, out_qsize 0\n",
      "2017-05-01 16:12:56,028 : INFO : PROGRESS: at 90.96% examples, 454301 words/s, in_qsize 7, out_qsize 0\n",
      "2017-05-01 16:12:57,085 : INFO : PROGRESS: at 93.19% examples, 454480 words/s, in_qsize 7, out_qsize 0\n",
      "2017-05-01 16:12:58,126 : INFO : PROGRESS: at 95.40% examples, 454815 words/s, in_qsize 7, out_qsize 0\n",
      "2017-05-01 16:12:59,128 : INFO : PROGRESS: at 97.63% examples, 455513 words/s, in_qsize 7, out_qsize 0\n",
      "2017-05-01 16:13:00,136 : INFO : PROGRESS: at 99.54% examples, 454723 words/s, in_qsize 7, out_qsize 0\n",
      "2017-05-01 16:13:00,354 : INFO : worker thread finished; awaiting finish of 3 more threads\n",
      "2017-05-01 16:13:00,386 : INFO : worker thread finished; awaiting finish of 2 more threads\n",
      "2017-05-01 16:13:00,388 : INFO : worker thread finished; awaiting finish of 1 more threads\n",
      "2017-05-01 16:13:00,391 : INFO : worker thread finished; awaiting finish of 0 more threads\n",
      "2017-05-01 16:13:00,392 : INFO : training on 22828625 raw words (21883278 effective words) took 48.2s, 454413 effective words/s\n"
     ]
    }
   ],
   "source": [
    "# Initialize and train the model.\n",
    "model_self_trained = Word2Vec(sentences, workers=num_workers, \\\n",
    "                 size=num_features, min_count=min_word_count, \\\n",
    "                 window=context, sample=downsampling)"
   ]
  },
  {
   "cell_type": "code",
   "execution_count": 80,
   "metadata": {
    "collapsed": false
   },
   "outputs": [
    {
     "name": "stderr",
     "output_type": "stream",
     "text": [
      "2017-05-01 16:13:00,506 : INFO : precomputing L2-norms of word weight vectors\n"
     ]
    }
   ],
   "source": [
    "# Make the model much more memory-efficient.\n",
    "model_self_trained.init_sims(replace=True)"
   ]
  },
  {
   "cell_type": "code",
   "execution_count": 81,
   "metadata": {
    "collapsed": false
   },
   "outputs": [
    {
     "name": "stderr",
     "output_type": "stream",
     "text": [
      "2017-05-01 16:13:01,502 : INFO : saving Word2Vec object under model/paired_qeustion_300f_40m_10c, separately None\n",
      "2017-05-01 16:13:01,504 : INFO : not storing attribute syn0norm\n",
      "2017-05-01 16:13:01,506 : INFO : storing np array 'syn0' to model/paired_qeustion_300f_40m_10c.wv.syn0.npy\n",
      "2017-05-01 16:13:01,891 : INFO : storing np array 'syn1neg' to model/paired_qeustion_300f_40m_10c.syn1neg.npy\n",
      "2017-05-01 16:13:02,156 : INFO : not storing attribute cum_table\n",
      "2017-05-01 16:13:03,576 : INFO : saved model/paired_qeustion_300f_40m_10c\n"
     ]
    }
   ],
   "source": [
    "# Save the model.\n",
    "model_self_trained.save('model/paired_qeustion_300f_40m_10c')"
   ]
  },
  {
   "cell_type": "code",
   "execution_count": 82,
   "metadata": {
    "collapsed": false
   },
   "outputs": [
    {
     "name": "stderr",
     "output_type": "stream",
     "text": [
      "2017-05-01 16:13:30,917 : INFO : loading Word2Vec object from model/paired_qeustion_300f_40m_10c\n",
      "2017-05-01 16:13:31,642 : INFO : loading wv recursively from model/paired_qeustion_300f_40m_10c.wv.* with mmap=None\n",
      "2017-05-01 16:13:31,643 : INFO : loading syn0 from model/paired_qeustion_300f_40m_10c.wv.syn0.npy with mmap=None\n",
      "2017-05-01 16:13:32,065 : INFO : setting ignored attribute syn0norm to None\n",
      "2017-05-01 16:13:32,069 : INFO : loading syn1neg from model/paired_qeustion_300f_40m_10c.syn1neg.npy with mmap=None\n",
      "2017-05-01 16:13:32,533 : INFO : setting ignored attribute cum_table to None\n",
      "2017-05-01 16:13:32,538 : INFO : loaded model/paired_qeustion_300f_40m_10c\n"
     ]
    }
   ],
   "source": [
    "# Load the model.\n",
    "model_self_trained = Word2Vec.load(\"model/paired_qeustion_300f_40m_10c\")"
   ]
  },
  {
   "cell_type": "code",
   "execution_count": 95,
   "metadata": {
    "collapsed": true
   },
   "outputs": [],
   "source": [
    "# Get the names of the words in the model's vocabulary. Convert it to a set, for speed.\n",
    "model_words = set()\n",
    "for item in sentences:\n",
    "    for i in item:\n",
    "        model_words.add(i)"
   ]
  },
  {
   "cell_type": "code",
   "execution_count": 135,
   "metadata": {
    "collapsed": false
   },
   "outputs": [],
   "source": [
    "# Function to average all of the word vectors.\n",
    "def make_feature_vec(df, model, model_words, num_features):\n",
    "    counter = 0\n",
    "    # Pre-initialize an empty numpy array (for speed)\n",
    "    df_vecs = np.zeros((len(df), num_features), dtype= 'float32')\n",
    "    for i in df.index.values:\n",
    "        words = df.question1_unigram[i] + df.question2_unigram[i]\n",
    "        set_words = set(words)\n",
    "        nwords = 0.\n",
    "        feature_vecs = np.zeros((num_features,), dtype= 'float32')\n",
    "    #  Loop over each word in the question1 and question2 and, if it is in the model's vocaublary,\\\n",
    "    #  add its feature vector to the total.\n",
    "        for word in set_words:\n",
    "            if word in model_words: \n",
    "                nwords = nwords + 1\n",
    "                feature_vecs = np.add(feature_vecs,model[word])\n",
    "        df_vecs[counter] = np.divide(feature_vecs, nwords + 1.)                                 \n",
    "        counter += 1\n",
    "    return df_vecs "
   ]
  },
  {
   "cell_type": "code",
   "execution_count": 105,
   "metadata": {
    "collapsed": false
   },
   "outputs": [],
   "source": [
    "# Get training dataset vectors.\n",
    "df_train_vecs = make_feature_vec(df_train, model_self_trained, num_features)"
   ]
  },
  {
   "cell_type": "code",
   "execution_count": 121,
   "metadata": {
    "collapsed": true
   },
   "outputs": [],
   "source": [
    "# Get testing dataset vectors.\n",
    "df_test_vecs = make_feature_vec(df_test, model_self_trained, num_features)"
   ]
  },
  {
   "cell_type": "code",
   "execution_count": 122,
   "metadata": {
    "collapsed": false
   },
   "outputs": [],
   "source": [
    "rmc = RandomForestClassifier(n_estimators=10)"
   ]
  },
  {
   "cell_type": "code",
   "execution_count": 123,
   "metadata": {
    "collapsed": false
   },
   "outputs": [
    {
     "data": {
      "text/plain": [
       "RandomForestClassifier(bootstrap=True, class_weight=None, criterion='gini',\n",
       "            max_depth=None, max_features='auto', max_leaf_nodes=None,\n",
       "            min_impurity_split=1e-07, min_samples_leaf=1,\n",
       "            min_samples_split=2, min_weight_fraction_leaf=0.0,\n",
       "            n_estimators=10, n_jobs=1, oob_score=False, random_state=None,\n",
       "            verbose=0, warm_start=False)"
      ]
     },
     "execution_count": 123,
     "metadata": {},
     "output_type": "execute_result"
    }
   ],
   "source": [
    "rmc.fit(df_train_vecs, df_train_y)"
   ]
  },
  {
   "cell_type": "code",
   "execution_count": 124,
   "metadata": {
    "collapsed": false
   },
   "outputs": [
    {
     "name": "stdout",
     "output_type": "stream",
     "text": [
      "Accuracy Score = 0.77\n",
      "Recall Score= 0.55\n",
      "Precision Score = 0.76\n",
      "AUC_Score = 0.82\n"
     ]
    }
   ],
   "source": [
    "get_scores(rmc, df_test_vecs, df_test_y)"
   ]
  },
  {
   "cell_type": "markdown",
   "metadata": {},
   "source": [
    "## Word2Vec Google News Pre-Trained Model"
   ]
  },
  {
   "cell_type": "code",
   "execution_count": 130,
   "metadata": {
    "collapsed": false
   },
   "outputs": [
    {
     "name": "stderr",
     "output_type": "stream",
     "text": [
      "2017-05-01 21:03:56,909 : INFO : loading projection weights from /Users/lihuama/Downloads/GoogleNews-vectors-negative300.bin\n",
      "2017-05-01 21:07:00,065 : INFO : loaded (3000000, 300) matrix from /Users/lihuama/Downloads/GoogleNews-vectors-negative300.bin\n"
     ]
    }
   ],
   "source": [
    "# Get Google News pre_trainded model.\n",
    "model_google_news = gensim.models.KeyedVectors.load_word2vec_format('/Users/lihuama/Downloads/GoogleNews-vectors-negative300.bin', binary=True);  "
   ]
  },
  {
   "cell_type": "code",
   "execution_count": 133,
   "metadata": {
    "collapsed": true
   },
   "outputs": [],
   "source": [
    "# Get names of the words in the Google News model's vocabulary. \n",
    "index2word_set = set(model_google_news.index2word)"
   ]
  },
  {
   "cell_type": "code",
   "execution_count": 136,
   "metadata": {
    "collapsed": false
   },
   "outputs": [],
   "source": [
    "# Get training dataset vectors\n",
    "df_train_vecs = make_feature_vec(df_train, model_google_news, index2word_set, num_features)"
   ]
  },
  {
   "cell_type": "code",
   "execution_count": 138,
   "metadata": {
    "collapsed": false
   },
   "outputs": [],
   "source": [
    "# Get testing dataset vectors\n",
    "df_train_vecs = make_feature_vec(df_train, model_google_news,index2word_set, num_features)"
   ]
  },
  {
   "cell_type": "code",
   "execution_count": 140,
   "metadata": {
    "collapsed": false
   },
   "outputs": [
    {
     "name": "stdout",
     "output_type": "stream",
     "text": [
      "Accuracy Score = 0.62\n",
      "Recall Score= 0.07\n",
      "Precision Score = 0.43\n",
      "AUC_Score = 0.53\n"
     ]
    }
   ],
   "source": [
    "rmc_modelg = RandomForestClassifier(n_estimators=10)\n",
    "rmc_modelg.fit(df_train_vecs, df_train_y)\n",
    "get_scores(rmc_modelg, df_test_vecs, df_test_y)"
   ]
  },
  {
   "cell_type": "code",
   "execution_count": null,
   "metadata": {
    "collapsed": false
   },
   "outputs": [],
   "source": []
  },
  {
   "cell_type": "code",
   "execution_count": null,
   "metadata": {
    "collapsed": true
   },
   "outputs": [],
   "source": []
  },
  {
   "cell_type": "code",
   "execution_count": null,
   "metadata": {
    "collapsed": true
   },
   "outputs": [],
   "source": []
  },
  {
   "cell_type": "code",
   "execution_count": null,
   "metadata": {
    "collapsed": true
   },
   "outputs": [],
   "source": []
  }
 ],
 "metadata": {
  "kernelspec": {
   "display_name": "Python [conda root]",
   "language": "python",
   "name": "conda-root-py"
  },
  "language_info": {
   "codemirror_mode": {
    "name": "ipython",
    "version": 2
   },
   "file_extension": ".py",
   "mimetype": "text/x-python",
   "name": "python",
   "nbconvert_exporter": "python",
   "pygments_lexer": "ipython2",
   "version": "2.7.13"
  }
 },
 "nbformat": 4,
 "nbformat_minor": 2
}
